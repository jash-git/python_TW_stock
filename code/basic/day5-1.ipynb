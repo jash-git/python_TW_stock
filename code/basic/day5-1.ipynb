{
 "cells": [
  {
   "cell_type": "code",
   "execution_count": 1,
   "metadata": {},
   "outputs": [
    {
     "name": "stdout",
     "output_type": "stream",
     "text": [
      "ret1---> 54\n"
     ]
    }
   ],
   "source": [
    "def GetArea(height,width):\n",
    "    area = width * height\n",
    "    return area\n",
    "ret1 = GetArea(6,9)\n",
    "print('ret1--->',ret1)"
   ]
  },
  {
   "cell_type": "code",
   "execution_count": 3,
   "metadata": {},
   "outputs": [
    {
     "name": "stdout",
     "output_type": "stream",
     "text": [
      "height---> 6\n",
      "width---> 9\n",
      "height---> 9\n",
      "width---> 6\n"
     ]
    }
   ],
   "source": [
    "def GetArea(height,width):\n",
    "    area = width * height\n",
    "    print('height--->',height)\n",
    "    print('width--->',width)\n",
    "    return area\n",
    "ret1 = GetArea(6,9)\n",
    "ret2 = GetArea(width=6, height=9)"
   ]
  },
  {
   "cell_type": "code",
   "execution_count": 5,
   "metadata": {},
   "outputs": [
    {
     "ename": "SyntaxError",
     "evalue": "non-default argument follows default argument (<ipython-input-5-6548c5c4a092>, line 3)",
     "output_type": "error",
     "traceback": [
      "\u001b[1;36m  File \u001b[1;32m\"<ipython-input-5-6548c5c4a092>\"\u001b[1;36m, line \u001b[1;32m3\u001b[0m\n\u001b[1;33m    def wrongFunction(first=12, second):\u001b[0m\n\u001b[1;37m                     ^\u001b[0m\n\u001b[1;31mSyntaxError\u001b[0m\u001b[1;31m:\u001b[0m non-default argument follows default argument\n"
     ]
    }
   ],
   "source": [
    "def rightFunction(first, second = 12):\n",
    "    return first\n",
    "def wrongFunction(first=12, second):\n",
    "    return first\n"
   ]
  },
  {
   "cell_type": "code",
   "execution_count": 8,
   "metadata": {},
   "outputs": [
    {
     "name": "stdout",
     "output_type": "stream",
     "text": [
      "2個參數: sumNumber(7,8) = 15\n",
      "3個參數: sumNumber(9,7,8) = 24\n",
      "2個參數: sumNumber(7,8,12,11) = 38\n"
     ]
    }
   ],
   "source": [
    "def sumNumber(*params):\n",
    "    total = 0\n",
    "    for param in params:\n",
    "        total +=param\n",
    "    return total\n",
    "\n",
    "print(\"2個參數: sumNumber(7,8) = %d\" % sumNumber(7,8))\n",
    "print(\"3個參數: sumNumber(9,7,8) = %d\" % sumNumber(9,7,8))\n",
    "print(\"2個參數: sumNumber(7,8,12,11) = %d\" % sumNumber(7,8,12,11))"
   ]
  },
  {
   "cell_type": "code",
   "execution_count": 11,
   "metadata": {},
   "outputs": [
    {
     "name": "stdout",
     "output_type": "stream",
     "text": [
      "區域變數 20\n",
      "全域變數 20\n"
     ]
    }
   ],
   "source": [
    "def scope():\n",
    "    var1 = \"區域變數\"\n",
    "    print(var1, var2) # 輸出為 區域變數 20\n",
    "var1 = \"全域變數\"\n",
    "var2 =20\n",
    "scope()\n",
    "print(var1, var2) # 輸出為 全域變數 20"
   ]
  },
  {
   "cell_type": "code",
   "execution_count": 25,
   "metadata": {},
   "outputs": [
    {
     "name": "stdout",
     "output_type": "stream",
     "text": [
      "10\n",
      "B\n",
      "(5, 3)\n",
      "33.0\n",
      "0x21\n",
      "22\n",
      "0o41\n",
      "66\n",
      "32\n",
      "23\n",
      "110\n"
     ]
    }
   ],
   "source": [
    "example1 = abs(-10)\n",
    "print(example1)  #取得絕對值 輸出 10\n",
    "example2 = chr(66)\n",
    "print(example2)  #取得整數66的字元 輸出 B\n",
    "example3 = divmod(33,6)\n",
    "print(example3)  #取得33除以6的商數和餘數 輸出 (5, 3)\n",
    "example4 = float(33)\n",
    "print(example4)  #轉成浮點數 輸出 33.0\n",
    "example5 = hex(33)\n",
    "print(example5)  #轉成16進位 輸出 0x21\n",
    "example6 = int(22.79)\n",
    "print(example6)  #轉成整數(無條件捨去) 輸出 22\n",
    "example7 = oct(33)\n",
    "print(example7) #轉成八進位 輸出 0o41\n",
    "example8 = ord(\"B\")\n",
    "print(example8) #取得Unicode編碼 輸出 66\n",
    "example9 = pow(2,5)\n",
    "print(example9) #取得2的5次方 輸出 32\n",
    "example10 = round(22.79)\n",
    "print(example10)  #轉成整數(四捨五入) 輸出 23\n",
    "example11 = sum([11,22,33,44])\n",
    "print(example11)  #取得list的總和 輸出 110\n"
   ]
  },
  {
   "cell_type": "code",
   "execution_count": null,
   "metadata": {},
   "outputs": [],
   "source": []
  }
 ],
 "metadata": {
  "kernelspec": {
   "display_name": "Python 3",
   "language": "python",
   "name": "python3"
  },
  "language_info": {
   "codemirror_mode": {
    "name": "ipython",
    "version": 3
   },
   "file_extension": ".py",
   "mimetype": "text/x-python",
   "name": "python",
   "nbconvert_exporter": "python",
   "pygments_lexer": "ipython3",
   "version": "3.6.5"
  }
 },
 "nbformat": 4,
 "nbformat_minor": 2
}
