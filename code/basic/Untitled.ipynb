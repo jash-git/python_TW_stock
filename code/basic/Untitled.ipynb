{
 "cells": [
  {
   "cell_type": "code",
   "execution_count": 1,
   "metadata": {},
   "outputs": [
    {
     "name": "stdout",
     "output_type": "stream",
     "text": [
      "請輸入2018鐵人賽參加隊伍是否有「浪流連九程式匠自然產生的佛系碼農專區」，請輸入是Yes or No?Yes\n",
      "恭喜你答對了!!\n"
     ]
    }
   ],
   "source": [
    " winner = input(\"請輸入2018鐵人賽參加隊伍是否有「浪流連九程式匠自然產生的佛系碼農專區」，請輸入是Yes or No?\")\n",
    " if(winner==\"Yes\"):\n",
    "     print(\"恭喜你答對了!!\")\n",
    " else:\n",
    "     print(\"不好意思你答錯了~><~\")"
   ]
  },
  {
   "cell_type": "code",
   "execution_count": null,
   "metadata": {},
   "outputs": [],
   "source": [
    " winner = input(\"請輸入2018鐵人賽參加隊伍是否有「浪流連九程式匠自然產生的佛系碼農專區」，請輸入是Yes or No?\")"
   ]
  },
  {
   "cell_type": "code",
   "execution_count": null,
   "metadata": {},
   "outputs": [],
   "source": []
  }
 ],
 "metadata": {
  "kernelspec": {
   "display_name": "Python 3",
   "language": "python",
   "name": "python3"
  },
  "language_info": {
   "codemirror_mode": {
    "name": "ipython",
    "version": 3
   },
   "file_extension": ".py",
   "mimetype": "text/x-python",
   "name": "python",
   "nbconvert_exporter": "python",
   "pygments_lexer": "ipython3",
   "version": "3.6.5"
  }
 },
 "nbformat": 4,
 "nbformat_minor": 2
}
