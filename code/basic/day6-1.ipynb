{
 "cells": [
  {
   "cell_type": "code",
   "execution_count": 12,
   "metadata": {},
   "outputs": [
    {
     "data": {
      "text/plain": [
       "0"
      ]
     },
     "execution_count": 12,
     "metadata": {},
     "output_type": "execute_result"
    }
   ],
   "source": [
    "import os\n",
    "file = \"first.txt\"\n",
    "os.remove(file)  # 移除檔案\n",
    "\n",
    "path = \"myDir\"\n",
    "os.mkdir(path) # 建立目錄\n",
    "os.rmdir(path) # 移除目錄\n",
    "\n",
    "os.system(\"mkdir dir2\") #執行作業系統命令\n"
   ]
  },
  {
   "cell_type": "code",
   "execution_count": 23,
   "metadata": {},
   "outputs": [
    {
     "name": "stdout",
     "output_type": "stream",
     "text": [
      "C:\\Users\\lasts\\Desktop\\git\\demo\\python\\learn_python_data_analysis\\basic\\second.txt\n",
      "C:\\Users\\lasts\\Desktop\\git\\demo\\python\\learn_python_data_analysis\\basic\\__file__\n",
      "True\n",
      "0\n"
     ]
    }
   ],
   "source": [
    "import os\n",
    "\n",
    "file = \"second.txt\"\n",
    "print(os.path.abspath(file))  # 完整路徑名稱\n",
    "print(os.path.abspath('__file__'))  # 目前路徑\n",
    "print(os.path.exists(file)) # 是否存在\n",
    "print(os.path.getsize(file)) #取得檔案大小"
   ]
  },
  {
   "cell_type": "code",
   "execution_count": 39,
   "metadata": {},
   "outputs": [
    {
     "name": "stdout",
     "output_type": "stream",
     "text": [
      "cur_path--> \n",
      "simple_tree--> <generator object walk at 0x00000280A83D5F68>\n"
     ]
    }
   ],
   "source": [
    "import os\n",
    "\n",
    "cur_path=os.path.dirname('__file__')\n",
    "print('cur_path-->', cur_path)\n",
    "simple_tree=os.walk(cur_path)\n",
    "print('simple_tree-->', simple_tree)\n",
    "for dirname,subdir,files in simple_tree:\n",
    "    print(\"dirname-->\", dirname)\n",
    "    print('subdirList--->', subdir)\n",
    "    print('fileList--->', files)"
   ]
  },
  {
   "cell_type": "code",
   "execution_count": 45,
   "metadata": {},
   "outputs": [
    {
     "name": "stdout",
     "output_type": "stream",
     "text": [
      "oswalk\\first.txt\n",
      "oswalk\\second.txt\n",
      "oswalk\\firstDir\n",
      "\n",
      "oswalk\\firstDir\\fitstDir_01.txt\n",
      "oswalk\\firstDir\\fitstDir_02.txt\n",
      "oswalk\\firstDir\\secondDir\n",
      "\n",
      "\n"
     ]
    }
   ],
   "source": [
    "import os\n",
    "for root, dirs, files in os.walk(\"oswalk\"):\n",
    "    for name in files:\n",
    "        print(os.path.join(root, name))\n",
    "    for name in dirs:\n",
    "        print(os.path.join(root, name))\n",
    "    print()"
   ]
  },
  {
   "cell_type": "code",
   "execution_count": 50,
   "metadata": {},
   "outputs": [
    {
     "name": "stdout",
     "output_type": "stream",
     "text": [
      "Python first   \n",
      "測試中文\n",
      "第三行\n"
     ]
    }
   ],
   "source": [
    "content = '''Python first   \n",
    "測試中文\n",
    "第三行\n",
    "'''  # '''...'''  保留原本的格式\n",
    "f = open('firstFile.txt','w') # 寫入模式，檔案如果已經存在會被覆蓋\n",
    "f.write(content)\n",
    "f.close()\n",
    "\n",
    "f2 = open('firstFile.txt','r')\n",
    "for line in f2:\n",
    "    print(line, end=\"\")\n",
    "f2.close()"
   ]
  },
  {
   "cell_type": "code",
   "execution_count": null,
   "metadata": {},
   "outputs": [],
   "source": []
  }
 ],
 "metadata": {
  "kernelspec": {
   "display_name": "Python 3",
   "language": "python",
   "name": "python3"
  },
  "language_info": {
   "codemirror_mode": {
    "name": "ipython",
    "version": 3
   },
   "file_extension": ".py",
   "mimetype": "text/x-python",
   "name": "python",
   "nbconvert_exporter": "python",
   "pygments_lexer": "ipython3",
   "version": "3.6.5"
  }
 },
 "nbformat": 4,
 "nbformat_minor": 2
}
