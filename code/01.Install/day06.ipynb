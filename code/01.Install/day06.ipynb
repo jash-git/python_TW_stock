{
 "cells": [
  {
   "cell_type": "code",
   "execution_count": 20,
   "metadata": {},
   "outputs": [
    {
     "name": "stdout",
     "output_type": "stream",
     "text": [
      "當前目錄位置---> C:\\Users\\lasts\\Desktop\\git\\demo\\python\\learn_python_data_analysis\\01.Install\n"
     ]
    }
   ],
   "source": [
    "import os\n",
    "\n",
    "path = \"myDir\"\n",
    "os.mkdir(path) # 建立目錄\n",
    "os.rmdir(path) # 移除目錄\n",
    "os.system(\"mkdir dir2\") #執行作業系統命令\n",
    "os.rename('day06.txt', 'day06_change.txt')\n",
    "print(\"當前目錄位置--->\",os.getcwd())"
   ]
  },
  {
   "cell_type": "code",
   "execution_count": 29,
   "metadata": {},
   "outputs": [
    {
     "name": "stdout",
     "output_type": "stream",
     "text": [
      "完整路徑名稱---> C:\\Users\\lasts\\Desktop\\git\\demo\\python\\learn_python_data_analysis\\01.Install\\day06-01.txt\n",
      "day06-01.txt  是否存在---> True\n",
      "day06-01.txt  檔案大小---> 0\n"
     ]
    }
   ],
   "source": [
    "file = \"day06-01.txt\"\n",
    "print(\"完整路徑名稱--->\",os.path.abspath(file))  # 完整路徑名稱\n",
    "print(file,\" 是否存在--->\",os.path.exists(file)) # 是否存在\n",
    "print(file,\" 檔案大小--->\",os.path.getsize(file)) #取得檔案大小"
   ]
  },
  {
   "cell_type": "code",
   "execution_count": 31,
   "metadata": {},
   "outputs": [
    {
     "name": "stdout",
     "output_type": "stream",
     "text": [
      "目錄---> day06-dir\\first\n",
      "目錄---> day06-dir\\second\n",
      "目錄---> day06-dir\\third\n",
      "\n",
      "檔案---> day06-dir\\first\\first-01.txt\n",
      "檔案---> day06-dir\\first\\first-02.txt\n",
      "檔案---> day06-dir\\first\\first-03.txt\n",
      "\n",
      "檔案---> day06-dir\\second\\second-01.txt\n",
      "\n",
      "\n"
     ]
    }
   ],
   "source": [
    "import os\n",
    "for root, dirs, files in os.walk(\"day06-dir\"):\n",
    "    for name in files:\n",
    "        print(\"檔案--->\",os.path.join(root, name))\n",
    "    for name in dirs:\n",
    "        print(\"目錄--->\",os.path.join(root, name))\n",
    "    print()"
   ]
  },
  {
   "cell_type": "code",
   "execution_count": 33,
   "metadata": {},
   "outputs": [],
   "source": [
    "content = '''Python first   \n",
    "測試中文\n",
    "第三行\n",
    "'''  # '''...'''  保留原本的格式\n",
    "f = open('firstFile.txt','wt') # 寫入模式，檔案如果已經存在會被覆蓋\n",
    "f.write(content)\n",
    "f.close()"
   ]
  },
  {
   "cell_type": "code",
   "execution_count": 35,
   "metadata": {},
   "outputs": [
    {
     "name": "stdout",
     "output_type": "stream",
     "text": [
      "Python first   \n",
      "測試中文\n",
      "第三行\n"
     ]
    }
   ],
   "source": [
    "f2 = open('firstFile.txt','r') # 讀取模式\n",
    "for line in f2:\n",
    "    print(line, end=\"\")\n",
    "f2.close()"
   ]
  },
  {
   "cell_type": "code",
   "execution_count": 36,
   "metadata": {},
   "outputs": [],
   "source": [
    "import csv\n",
    "\n",
    "with open('day06-csv.csv', 'w', newline='') as csvfile:\n",
    "    writer = csv.writer(csvfile) # 建立 CSV 檔寫入器\n",
    "    writer.writerow(['股票', '收盤價', '單量'])  #寫入資料\n",
    "    writer.writerow(['台積電', 238, 23])\n",
    "    writer.writerow(['大同', 40, 121])\n",
    "    writer.writerow(['華新科', 174, 105])\n",
    "\n"
   ]
  },
  {
   "cell_type": "code",
   "execution_count": 37,
   "metadata": {},
   "outputs": [
    {
     "name": "stdout",
     "output_type": "stream",
     "text": [
      "['股票', '收盤價', '單量']\n",
      "['台積電', '238', '23']\n",
      "['大同', '40', '121']\n",
      "['華新科', '174', '105']\n"
     ]
    }
   ],
   "source": [
    "with open('day06-csv.csv', newline='') as csvfile:\n",
    "\n",
    "  rows = csv.reader(csvfile)  # 讀取 CSV 檔案內容\n",
    "  for row in rows:  # 以迴圈輸出每一列\n",
    "    print(row)"
   ]
  },
  {
   "cell_type": "code",
   "execution_count": 1,
   "metadata": {},
   "outputs": [],
   "source": [
    "import xml.etree.ElementTree as ET\n",
    "\n",
    "data = ET.Element('stock') #建立節點stock\n",
    "tsmc = ET.SubElement(data, 'tsmc')  # 在stock節點底下建立子節點\n",
    "close = ET.SubElement(tsmc, 'close')  \n",
    "buy = ET.SubElement(tsmc, 'buy')  \n",
    "close.set('name','收盤價') # 設定節點的名稱\n",
    "buy.set('name','單量')  \n",
    "close.text = '238'  \n",
    "buy.text = '23'\n",
    "\n",
    "\n",
    "mydata = ET.tostring(data)  \n",
    "myfile = open(\"day06-xml.xml\", \"wb\")  \n",
    "myfile.write(mydata)  \n",
    "myfile.close()"
   ]
  },
  {
   "cell_type": "code",
   "execution_count": 39,
   "metadata": {},
   "outputs": [
    {
     "name": "stdout",
     "output_type": "stream",
     "text": [
      "收盤價 -----> {'name': '收盤價'}\n",
      "單量 -----> {'name': '單量'}\n"
     ]
    }
   ],
   "source": [
    "tree = ET.parse('day06-xml.xml')  \n",
    "root = tree.getroot()\n",
    "\n",
    "for elem in root:  \n",
    "    for subelem in elem:\n",
    "        print(subelem.get('name'),\"----->\",subelem.attrib)"
   ]
  },
  {
   "cell_type": "code",
   "execution_count": 50,
   "metadata": {},
   "outputs": [],
   "source": [
    "import json\n",
    "\n",
    "data = {}  \n",
    "data['stock'] = []  \n",
    "data['stock'].append({  \n",
    "    'name': '台積電',\n",
    "    'close': '238',\n",
    "    'buy': '23'\n",
    "})\n",
    "data['stock'].append({  \n",
    "    'name': '大同',\n",
    "    'close': '40',\n",
    "    'buy': '121'\n",
    "})\n",
    "data['stock'].append({  \n",
    "    'name': '華新科',\n",
    "    'close': '174',\n",
    "    'buy': '105'\n",
    "})\n",
    "\n",
    "with open('day06-json.json', 'w') as outfile:  \n",
    "    json.dump(data, outfile,ensure_ascii=False,indent=2)\n"
   ]
  },
  {
   "cell_type": "code",
   "execution_count": 51,
   "metadata": {},
   "outputs": [
    {
     "name": "stdout",
     "output_type": "stream",
     "text": [
      "股票: 台積電\n",
      "收盤價: 238\n",
      "單量: 23\n",
      "\n",
      "股票: 大同\n",
      "收盤價: 40\n",
      "單量: 121\n",
      "\n",
      "股票: 華新科\n",
      "收盤價: 174\n",
      "單量: 105\n",
      "\n"
     ]
    }
   ],
   "source": [
    "with open('day06-json.json') as json_file:  \n",
    "    data = json.load(json_file)\n",
    "    for p in data['stock']:\n",
    "        print('股票: ' + p['name'])\n",
    "        print('收盤價: ' + p['close'])\n",
    "        print('單量: ' + p['buy'])\n",
    "        print('')"
   ]
  },
  {
   "cell_type": "code",
   "execution_count": 52,
   "metadata": {},
   "outputs": [],
   "source": [
    "import yaml\n",
    "cfg = {\n",
    "  \"stock\": dict(\n",
    "      name='台積電',\n",
    "      close='238',\n",
    "      buy='121'\n",
    "   )  \n",
    "}\n",
    "with open(\"day06_yml.yml\", 'w') as outfile:\n",
    "    yaml.dump(cfg, outfile, default_flow_style=False,allow_unicode=True) "
   ]
  },
  {
   "cell_type": "code",
   "execution_count": 54,
   "metadata": {},
   "outputs": [
    {
     "name": "stdout",
     "output_type": "stream",
     "text": [
      "取得股票---> {'buy': '121', 'close': '238', 'name': '台積電'}\n"
     ]
    }
   ],
   "source": [
    "with open(\"day06_yml.yml\", 'r') as yml:\n",
    "    contents = yaml.safe_load(yml)\n",
    "    print(\"取得股票--->\",contents['stock'])"
   ]
  },
  {
   "cell_type": "code",
   "execution_count": null,
   "metadata": {},
   "outputs": [],
   "source": []
  }
 ],
 "metadata": {
  "kernelspec": {
   "display_name": "Python 3",
   "language": "python",
   "name": "python3"
  },
  "language_info": {
   "codemirror_mode": {
    "name": "ipython",
    "version": 3
   },
   "file_extension": ".py",
   "mimetype": "text/x-python",
   "name": "python",
   "nbconvert_exporter": "python",
   "pygments_lexer": "ipython3",
   "version": "3.6.5"
  }
 },
 "nbformat": 4,
 "nbformat_minor": 2
}
