{
 "cells": [
  {
   "cell_type": "code",
   "execution_count": 1,
   "metadata": {},
   "outputs": [
    {
     "name": "stdout",
     "output_type": "stream",
     "text": [
      "中華職棒2018年的總冠軍隊伍為兄弟象\n"
     ]
    }
   ],
   "source": [
    "print(\"{}{}年的總冠軍隊伍為{}\".format(\"中華職棒\",2018,\"兄弟象\")) #輸出結果 兄弟象 總冠軍"
   ]
  },
  {
   "cell_type": "code",
   "execution_count": 2,
   "metadata": {},
   "outputs": [
    {
     "name": "stdout",
     "output_type": "stream",
     "text": [
      "<class 'int'>\n",
      "<class 'str'>\n",
      "<class 'bool'>\n"
     ]
    }
   ],
   "source": [
    "print(type(2018))\n",
    "print(type(\"今年是不是兄弟拿總冠軍\"))\n",
    "print(type(True))"
   ]
  },
  {
   "cell_type": "code",
   "execution_count": 3,
   "metadata": {},
   "outputs": [
    {
     "name": "stdout",
     "output_type": "stream",
     "text": [
      "num2--> 6\n",
      "num3--> 5\n"
     ]
    }
   ],
   "source": [
    "num2 = 5 + True\n",
    "num3 = 5 + False\n",
    "print('num2-->',num2)\n",
    "print('num3-->',num3)"
   ]
  },
  {
   "cell_type": "code",
   "execution_count": 4,
   "metadata": {},
   "outputs": [
    {
     "name": "stdout",
     "output_type": "stream",
     "text": [
      "請輸入2018總冠軍是?兄弟象\n"
     ]
    }
   ],
   "source": [
    "score = input(\"請輸入2018總冠軍是?\")"
   ]
  },
  {
   "cell_type": "code",
   "execution_count": 1,
   "metadata": {},
   "outputs": [
    {
     "name": "stdout",
     "output_type": "stream",
     "text": [
      "請輸入2018鐵人賽參加隊伍是否有「浪流連九程式匠自然產生的佛系碼農專區」，請輸入是Yes or No?Yes\n",
      "恭喜你答對了!!\n"
     ]
    }
   ],
   "source": [
    "winner = input(\"請輸入2018鐵人賽參加隊伍是否有「浪流連九程式匠自然產生的佛系碼農專區」，請輸入是Yes or No?\")\n",
    "if(winner==\"Yes\"):\n",
    "    print(\"恭喜你答對了!!\")\n",
    "else:\n",
    "    print(\"不好意思你答錯了~><~\")"
   ]
  },
  {
   "cell_type": "code",
   "execution_count": null,
   "metadata": {},
   "outputs": [],
   "source": [
    "score = int(input(\"請「浪流連九程式匠自然產生的佛系碼農專區」有幾人參加?\"))\n",
    "if(score>=3):\n",
    "    if(score==9):\n",
    "        print(\"沒錯!!剛好就是9人\")\n",
    "    elif(score>=7):\n",
    "        print(\"已經非常接近了\")\n",
    "    else:\n",
    "        print(\"不好意思，離正確答案還有一段距離\")\n",
    "else:\n",
    "    print(\"沒有這麼少人喔\")"
   ]
  },
  {
   "cell_type": "code",
   "execution_count": null,
   "metadata": {},
   "outputs": [],
   "source": []
  },
  {
   "cell_type": "code",
   "execution_count": null,
   "metadata": {},
   "outputs": [],
   "source": []
  }
 ],
 "metadata": {
  "kernelspec": {
   "display_name": "Python 3",
   "language": "python",
   "name": "python3"
  },
  "language_info": {
   "codemirror_mode": {
    "name": "ipython",
    "version": 3
   },
   "file_extension": ".py",
   "mimetype": "text/x-python",
   "name": "python",
   "nbconvert_exporter": "python",
   "pygments_lexer": "ipython3",
   "version": "3.6.5"
  }
 },
 "nbformat": 4,
 "nbformat_minor": 2
}
