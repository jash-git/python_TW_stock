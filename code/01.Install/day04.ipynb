{
 "cells": [
  {
   "cell_type": "code",
   "execution_count": 1,
   "metadata": {},
   "outputs": [
    {
     "name": "stdout",
     "output_type": "stream",
     "text": [
      "總冠軍隊伍 中信兄弟\n",
      "亞軍隊伍 lamigo\n"
     ]
    }
   ],
   "source": [
    "ironman_list = [\"中信兄弟\", \"統一獅\", \"lamigo\", \"富邦悍將\"]\n",
    "print('總冠軍隊伍', ironman_list[0]) \n",
    "print('亞軍隊伍', ironman_list[-2])"
   ]
  },
  {
   "cell_type": "code",
   "execution_count": 5,
   "metadata": {},
   "outputs": [
    {
     "name": "stdout",
     "output_type": "stream",
     "text": [
      "[0, 1, 2, 3, 4]\n",
      "[3, 4, 5, 6, 7]\n",
      "[3, 5, 7]\n"
     ]
    }
   ],
   "source": [
    "ironman_list1 = range(5)\n",
    "ironman_list2 = range(3,8)\n",
    "ironman_list3 = range(3,8,2)\n",
    "print(list(ironman_list1))\n",
    "print(list(ironman_list2))\n",
    "print(list(ironman_list3))"
   ]
  },
  {
   "cell_type": "code",
   "execution_count": 6,
   "metadata": {},
   "outputs": [
    {
     "name": "stdout",
     "output_type": "stream",
     "text": [
      "[1, 2, 3, 4, 5, 6, 1, 2, 3, 4, 5, 6]\n"
     ]
    }
   ],
   "source": [
    "ironman_list1 = [1,2,3,4,5,6]\n",
    "ironman_list2 = ironman_list1*2\n",
    "print(ironman_list2)"
   ]
  },
  {
   "cell_type": "code",
   "execution_count": 7,
   "metadata": {},
   "outputs": [
    {
     "name": "stdout",
     "output_type": "stream",
     "text": [
      "[3, 4, 5]\n"
     ]
    }
   ],
   "source": [
    "ironman_list1 = [1,2,3,4,5,6]\n",
    "print(list(ironman_list1[2:5]))"
   ]
  },
  {
   "cell_type": "code",
   "execution_count": 8,
   "metadata": {},
   "outputs": [
    {
     "name": "stdout",
     "output_type": "stream",
     "text": [
      "[2, 4]\n"
     ]
    }
   ],
   "source": [
    "ironman_list1 = [1,2,3,4,5,6]\n",
    "print(list(ironman_list1[1:4:2]))"
   ]
  },
  {
   "cell_type": "code",
   "execution_count": 9,
   "metadata": {},
   "outputs": [
    {
     "name": "stdout",
     "output_type": "stream",
     "text": [
      "[1, 5, 6]\n"
     ]
    }
   ],
   "source": [
    "ironman_list1 = [1,2,3,4,5,6]\n",
    "del ironman_list1[1:4]\n",
    "print(list(ironman_list1))"
   ]
  },
  {
   "cell_type": "code",
   "execution_count": 11,
   "metadata": {},
   "outputs": [
    {
     "name": "stdout",
     "output_type": "stream",
     "text": [
      "串列元素數目-----> 6\n",
      "串列元素最小值---> 1\n",
      "串列元素最大值---> 6\n"
     ]
    }
   ],
   "source": [
    "ironman_list1 = [1,2,3,4,5,6]\n",
    "print('串列元素數目----->',len(ironman_list1))\n",
    "print('串列元素最小值--->',min(ironman_list1))\n",
    "print('串列元素最大值--->',max(ironman_list1))"
   ]
  },
  {
   "cell_type": "code",
   "execution_count": 13,
   "metadata": {},
   "outputs": [
    {
     "name": "stdout",
     "output_type": "stream",
     "text": [
      "元素3第一次出現的位置------> 2\n",
      "元素在串列中出現的次數-----> 3\n"
     ]
    }
   ],
   "source": [
    "ironman_list1 = [1,2,3,4,3,6,3]\n",
    "print('元素3第一次出現的位置------>',ironman_list1.index(3))\n",
    "print('元素在串列中出現的次數----->',ironman_list1.count(3))"
   ]
  },
  {
   "cell_type": "code",
   "execution_count": 10,
   "metadata": {},
   "outputs": [
    {
     "name": "stdout",
     "output_type": "stream",
     "text": [
      "將8做為元素加在list最後----> [1, 2, 3, 4, 5, 6, 8]\n",
      "將[8,9]中的元素加在list最後----> [1, 2, 3, 4, 5, 6, 8, 9]\n",
      "在index 3的位置加入元素8----> [1, 2, 3, 8, 4, 5, 6]\n"
     ]
    }
   ],
   "source": [
    "ironman_list1 = [1,2,3,4,5,6]\n",
    "ironman_list1.append(8)\n",
    "print('將8做為元素加在list最後---->',list(ironman_list1))\n",
    "ironman_list1 = [1,2,3,4,5,6]\n",
    "ironman_list1.extend([8,9])\n",
    "print('將[8,9]中的元素加在list最後---->',list(ironman_list1))\n",
    "ironman_list1 = [1,2,3,4,5,6]\n",
    "ironman_list1.insert(3,8)\n",
    "print('在index 3的位置加入元素8---->',list(ironman_list1))"
   ]
  },
  {
   "cell_type": "code",
   "execution_count": 11,
   "metadata": {},
   "outputs": [
    {
     "name": "stdout",
     "output_type": "stream",
     "text": [
      "取出list最後一個元素並且移除----> 6\n",
      "移除第一次出現3的元素----> [2, 4, 5, 6]\n"
     ]
    }
   ],
   "source": [
    "ironman_list1 = [1,2,3,4,5,6]\n",
    "n = ironman_list1.pop()\n",
    "print('取出list最後一個元素並且移除---->',n)\n",
    "ironman_list1 = [2,3,4,5,6]\n",
    "ironman_list1.remove(3)\n",
    "print('移除第一次出現3的元素---->',list(ironman_list1))"
   ]
  },
  {
   "cell_type": "code",
   "execution_count": 12,
   "metadata": {},
   "outputs": [
    {
     "name": "stdout",
     "output_type": "stream",
     "text": [
      "反轉list順序----> [4, 3, 6, 5, 2]\n",
      "將list從小到大排列----> [2, 3, 4, 5, 7]\n"
     ]
    }
   ],
   "source": [
    "ironman_list1 = [2,5,6,3,4]\n",
    "ironman_list1.reverse()\n",
    "print('反轉list順序---->',list(ironman_list1))\n",
    "ironman_list1 = [3,2,5,7,4]\n",
    "ironman_list1.sort()\n",
    "print('將list從小到大排列---->',list(ironman_list1))"
   ]
  },
  {
   "cell_type": "code",
   "execution_count": 15,
   "metadata": {},
   "outputs": [
    {
     "name": "stdout",
     "output_type": "stream",
     "text": [
      "總冠軍隊伍 中信兄弟\n",
      "亞軍隊伍 lamigo\n"
     ]
    }
   ],
   "source": [
    "ironman_tuple = (\"中信兄弟\", \"統一獅\", \"lamigo\", \"富邦悍將\")\n",
    "print('總冠軍隊伍', ironman_tuple[0]) \n",
    "print('亞軍隊伍', ironman_tuple[-2])"
   ]
  },
  {
   "cell_type": "code",
   "execution_count": 16,
   "metadata": {},
   "outputs": [
    {
     "name": "stdout",
     "output_type": "stream",
     "text": [
      "['中信兄弟', '統一獅', 'lamigo', '富邦悍將']\n",
      "['brother', 'lion', 'monkey', 'Guardians']\n"
     ]
    }
   ],
   "source": [
    "ironman_tuple = (\"中信兄弟\", \"統一獅\", \"lamigo\", \"富邦悍將\")\n",
    "ironman_list = [\"brother\",\"lion\",\"monkey\",\"Guardians\"]\n",
    "tuple_to_list = list(ironman_tuple)\n",
    "list_to_tuple = tuple(ironman_list)\n",
    "print(list(tuple_to_list))\n",
    "print(list(list_to_tuple))"
   ]
  },
  {
   "cell_type": "code",
   "execution_count": 24,
   "metadata": {},
   "outputs": [
    {
     "name": "stdout",
     "output_type": "stream",
     "text": [
      "中信兄弟\n"
     ]
    }
   ],
   "source": [
    "ironman_dict = {\"team\":\"中信兄弟\",\"year\":\"2017\",\"ranking\":2}\n",
    "print(ironman_dict[\"team\"])"
   ]
  },
  {
   "cell_type": "code",
   "execution_count": 25,
   "metadata": {},
   "outputs": [
    {
     "name": "stdout",
     "output_type": "stream",
     "text": [
      "{'year': '2017', 'ranking': 2}\n",
      "{}\n"
     ]
    }
   ],
   "source": [
    "del ironman_dict[\"team\"]  #刪除元素\n",
    "print(ironman_dict) \n",
    "\n",
    "ironman_dict.clear() #刪除所有元素\n",
    "print(ironman_dict)\n",
    "\n",
    "del ironman_dict # 刪除dict\n"
   ]
  },
  {
   "cell_type": "code",
   "execution_count": 26,
   "metadata": {},
   "outputs": [
    {
     "name": "stdout",
     "output_type": "stream",
     "text": [
      "1,2,3,8,4,5,6,"
     ]
    }
   ],
   "source": [
    "ironman_list1 = range(0, 5)\n",
    "for i in list1:\n",
    "    print(i,end=\",\")"
   ]
  },
  {
   "cell_type": "code",
   "execution_count": 28,
   "metadata": {},
   "outputs": [
    {
     "name": "stdout",
     "output_type": "stream",
     "text": [
      "1*1=1   1*2=2   1*3=3   1*4=4   1*5=5   1*6=6   1*7=7   1*8=8   1*9=9   \n",
      "2*1=2   2*2=4   2*3=6   2*4=8   2*5=10  2*6=12  2*7=14  2*8=16  2*9=18  \n",
      "3*1=3   3*2=6   3*3=9   3*4=12  3*5=15  3*6=18  3*7=21  3*8=24  3*9=27  \n",
      "4*1=4   4*2=8   4*3=12  4*4=16  4*5=20  4*6=24  4*7=28  4*8=32  4*9=36  \n",
      "5*1=5   5*2=10  5*3=15  5*4=20  5*5=25  5*6=30  5*7=35  5*8=40  5*9=45  \n",
      "6*1=6   6*2=12  6*3=18  6*4=24  6*5=30  6*6=36  6*7=42  6*8=48  6*9=54  \n",
      "7*1=7   7*2=14  7*3=21  7*4=28  7*5=35  7*6=42  7*7=49  7*8=56  7*9=63  \n",
      "8*1=8   8*2=16  8*3=24  8*4=32  8*5=40  8*6=48  8*7=56  8*8=64  8*9=72  \n",
      "9*1=9   9*2=18  9*3=27  9*4=36  9*5=45  9*6=54  9*7=63  9*8=72  9*9=81  \n"
     ]
    }
   ],
   "source": [
    "for i in range(1,10):\n",
    "    for j in range(1,10):\n",
    "        product = i * j\n",
    "        print(\"%d*%d=%-2d \" % (i,j, product), end=\" \")\n",
    "    print() #斷行"
   ]
  },
  {
   "cell_type": "code",
   "execution_count": 29,
   "metadata": {},
   "outputs": [
    {
     "name": "stdout",
     "output_type": "stream",
     "text": [
      "1,2,3,4,5,"
     ]
    }
   ],
   "source": [
    "for i in range(1,11):\n",
    "    if(i==6):\n",
    "        break\n",
    "    print(i, end=\",\") "
   ]
  },
  {
   "cell_type": "code",
   "execution_count": 30,
   "metadata": {},
   "outputs": [
    {
     "name": "stdout",
     "output_type": "stream",
     "text": [
      "1,2,3,4,5,7,8,9,10,"
     ]
    }
   ],
   "source": [
    " for i in range(1,11):\n",
    "     if(i==6):\n",
    "         continue\n",
    "     print(i, end=\",\")"
   ]
  },
  {
   "cell_type": "code",
   "execution_count": 1,
   "metadata": {},
   "outputs": [
    {
     "name": "stdout",
     "output_type": "stream",
     "text": [
      "5是質數!\n"
     ]
    }
   ],
   "source": [
    "n = 5\n",
    "if(n==2):\n",
    "    print(\"2是質數!\")\n",
    "else:\n",
    "    for i in range(2,n):\n",
    "        if(n % i == 0):\n",
    "            print(\"%d 不是質數!\" %n)\n",
    "            break\n",
    "    else:\n",
    "        print(\"%d是質數!\" %n)"
   ]
  },
  {
   "cell_type": "code",
   "execution_count": 2,
   "metadata": {},
   "outputs": [
    {
     "name": "stdout",
     "output_type": "stream",
     "text": [
      "55\n"
     ]
    }
   ],
   "source": [
    "total = n = 0\n",
    "while(n<10):\n",
    "    n += 1\n",
    "    total += n\n",
    "print(total)"
   ]
  },
  {
   "cell_type": "code",
   "execution_count": null,
   "metadata": {},
   "outputs": [],
   "source": []
  }
 ],
 "metadata": {
  "kernelspec": {
   "display_name": "Python 3",
   "language": "python",
   "name": "python3"
  },
  "language_info": {
   "codemirror_mode": {
    "name": "ipython",
    "version": 3
   },
   "file_extension": ".py",
   "mimetype": "text/x-python",
   "name": "python",
   "nbconvert_exporter": "python",
   "pygments_lexer": "ipython3",
   "version": "3.6.5"
  }
 },
 "nbformat": 4,
 "nbformat_minor": 2
}
