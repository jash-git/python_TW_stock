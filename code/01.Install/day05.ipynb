{
 "cells": [
  {
   "cell_type": "code",
   "execution_count": 1,
   "metadata": {},
   "outputs": [
    {
     "name": "stdout",
     "output_type": "stream",
     "text": [
      "ret1---> 54\n"
     ]
    }
   ],
   "source": [
    "def GetArea(height,width):\n",
    "    area = width * height\n",
    "    return area\n",
    "ret1 = GetArea(6,9)\n",
    "print('ret1--->',ret1)"
   ]
  },
  {
   "cell_type": "code",
   "execution_count": 1,
   "metadata": {},
   "outputs": [
    {
     "name": "stdout",
     "output_type": "stream",
     "text": [
      "height---> 6\n",
      "width---> 9\n",
      "height---> 9\n",
      "width---> 6\n"
     ]
    }
   ],
   "source": [
    "def GetArea(height,width):\n",
    "    area = width * height\n",
    "    print('height--->',height)\n",
    "    print('width--->',width)\n",
    "    return area\n",
    "ret1 = GetArea(6,9)\n",
    "ret2 = GetArea(width=6, height=9)"
   ]
  },
  {
   "cell_type": "code",
   "execution_count": 2,
   "metadata": {},
   "outputs": [
    {
     "name": "stdout",
     "output_type": "stream",
     "text": [
      "2個參數: sumNumber(7,8) = 15\n",
      "3個參數: sumNumber(9,7,8) = 24\n",
      "2個參數: sumNumber(7,8,12,11) = 38\n"
     ]
    }
   ],
   "source": [
    "def sumNumber(*params):\n",
    "    total = 0\n",
    "    for param in params:\n",
    "        total +=param\n",
    "    return total\n",
    "\n",
    "print(\"2個參數: sumNumber(7,8) = %d\" % sumNumber(7,8))\n",
    "print(\"3個參數: sumNumber(9,7,8) = %d\" % sumNumber(9,7,8))\n",
    "print(\"2個參數: sumNumber(7,8,12,11) = %d\" % sumNumber(7,8,12,11))"
   ]
  },
  {
   "cell_type": "code",
   "execution_count": 3,
   "metadata": {},
   "outputs": [
    {
     "name": "stdout",
     "output_type": "stream",
     "text": [
      "height---> 7\n",
      "width---> 8\n"
     ]
    }
   ],
   "source": [
    "def run_otherFunc(func):\n",
    "    func(7,8)\n",
    "run_otherFunc(GetArea)"
   ]
  },
  {
   "cell_type": "code",
   "execution_count": 1,
   "metadata": {},
   "outputs": [
    {
     "name": "stdout",
     "output_type": "stream",
     "text": [
      "區域變數 20\n",
      "全域變數 20\n"
     ]
    }
   ],
   "source": [
    "def scope():\n",
    "    var1 = \"區域變數\"\n",
    "    print(var1, var2)\n",
    "var1 = \"全域變數\"\n",
    "var2 =20\n",
    "scope()\n",
    "print(var1, var2)"
   ]
  },
  {
   "cell_type": "code",
   "execution_count": null,
   "metadata": {},
   "outputs": [],
   "source": []
  }
 ],
 "metadata": {
  "kernelspec": {
   "display_name": "Python 3",
   "language": "python",
   "name": "python3"
  },
  "language_info": {
   "codemirror_mode": {
    "name": "ipython",
    "version": 3
   },
   "file_extension": ".py",
   "mimetype": "text/x-python",
   "name": "python",
   "nbconvert_exporter": "python",
   "pygments_lexer": "ipython3",
   "version": "3.6.5"
  }
 },
 "nbformat": 4,
 "nbformat_minor": 2
}
