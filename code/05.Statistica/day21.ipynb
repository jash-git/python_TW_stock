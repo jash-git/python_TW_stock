{
 "cells": [
  {
   "cell_type": "code",
   "execution_count": 3,
   "metadata": {
    "scrolled": true
   },
   "outputs": [
    {
     "name": "stdout",
     "output_type": "stream",
     "text": [
      "valueCount/1000----> 3    0.330\n",
      "1    0.253\n",
      "4    0.203\n",
      "5    0.114\n",
      "2    0.100\n",
      "dtype: float64\n"
     ]
    }
   ],
   "source": [
    "import numpy as np\n",
    "import pandas as pd\n",
    "\n",
    "ironman = np.random.choice([1,2,3,4,5], size=1000, p=[0.25,0.1,0.35,0.2,0.1])\n",
    "valueCount = pd.Series(ironman).value_counts()\n",
    "print('valueCount/1000---->', valueCount/1000)"
   ]
  },
  {
   "cell_type": "code",
   "execution_count": 6,
   "metadata": {},
   "outputs": [
    {
     "data": {
      "image/png": "[encoded data removed]",
      "text/plain": [
       "<Figure size 432x288 with 1 Axes>"
      ]
     },
     "metadata": {},
     "output_type": "display_data"
    }
   ],
   "source": [
    "from scipy import stats\n",
    "import matplotlib.pyplot as plt\n",
    "%matplotlib inline\n",
    "\n",
    "tw50 = pd.read_csv('tw50.csv', sep='\\t', index_col='Date')\n",
    "\n",
    "tw50_gaussian = stats.kde.gaussian_kde(tw50.ROI)\n",
    "x_value = np.arange(-5,5,0.02)\n",
    "\n",
    "fig = plt.figure()\n",
    "plt.subplot()\n",
    "plt.plot(x_value, tw50_gaussian(x_value))\n",
    "plt.title(\"台灣50指數收益率的概率密度曲線圖\")\n",
    "fig.savefig('day19_01.png')\n"
   ]
  },
  {
   "cell_type": "code",
   "execution_count": 4,
   "metadata": {},
   "outputs": [
    {
     "data": {
      "text/plain": [
       "array([56, 49, 49, 52, 44, 50, 40, 52, 46, 49, 54, 46, 55, 49, 57, 45, 45,\n",
       "       54, 53, 47])"
      ]
     },
     "execution_count": 4,
     "metadata": {},
     "output_type": "execute_result"
    }
   ],
   "source": [
    "np.random.binomial(100,0.5,20)"
   ]
  },
  {
   "cell_type": "code",
   "execution_count": 5,
   "metadata": {},
   "outputs": [
    {
     "data": {
      "text/plain": [
       "4.228163267601253e-10"
      ]
     },
     "execution_count": 5,
     "metadata": {},
     "output_type": "execute_result"
    }
   ],
   "source": [
    "from scipy import stats\n",
    "stats.binom.pmf(20,100,0.5)"
   ]
  },
  {
   "cell_type": "code",
   "execution_count": 12,
   "metadata": {},
   "outputs": [
    {
     "name": "stdout",
     "output_type": "stream",
     "text": [
      "p-----> 0.5327868852459017\n",
      "prob-----> 0.02093703958512302\n"
     ]
    }
   ],
   "source": [
    "ret = tw50.ROI  #台灣50的收益率數據\n",
    "ret.index = pd.to_datetime(tw50.index)\n",
    "ret1 = ret['2016']\n",
    "\n",
    "#台灣50上漲的機率p\n",
    "p = len(ret1[ret>0]) /len(ret1)\n",
    "print('p----->', p)\n",
    "\n",
    "#預估未來20個交易日中，有7個是上漲的機率\n",
    "prob =stats.binom.pmf(6,20,p)\n",
    "print('prob----->', prob)"
   ]
  },
  {
   "cell_type": "code",
   "execution_count": null,
   "metadata": {},
   "outputs": [],
   "source": []
  }
 ],
 "metadata": {
  "kernelspec": {
   "display_name": "Python 3",
   "language": "python",
   "name": "python3"
  },
  "language_info": {
   "codemirror_mode": {
    "name": "ipython",
    "version": 3
   },
   "file_extension": ".py",
   "mimetype": "text/x-python",
   "name": "python",
   "nbconvert_exporter": "python",
   "pygments_lexer": "ipython3",
   "version": "3.6.5"
  }
 },
 "nbformat": 4,
 "nbformat_minor": 2
}
