{
 "cells": [
  {
   "cell_type": "code",
   "execution_count": 6,
   "metadata": {},
   "outputs": [
    {
     "name": "stdout",
     "output_type": "stream",
     "text": [
      "x-----------> [38 60 17 34 13  8 34 35 21 49 61 48 93 12 63 29 80 86 61 60]\n",
      "x.sort()-----------> [ 8 12 13 17 21 29 34 34 35 38 48 49 60 60 61 61 63 80 86 93]\n"
     ]
    }
   ],
   "source": [
    "import numpy as np\n",
    "x = np.random.randint(0,100,size = 20)\n",
    "print('x----------->',x)\n",
    "print('np.sort(x)----------->',np.sort(x))"
   ]
  },
  {
   "cell_type": "code",
   "execution_count": 7,
   "metadata": {},
   "outputs": [
    {
     "name": "stdout",
     "output_type": "stream",
     "text": [
      "x.mean()-----> 45.1\n"
     ]
    }
   ],
   "source": [
    "print('x.mean()----->',x.mean())"
   ]
  },
  {
   "cell_type": "code",
   "execution_count": 8,
   "metadata": {},
   "outputs": [
    {
     "name": "stdout",
     "output_type": "stream",
     "text": [
      "np.median(x)-----> 43.0\n"
     ]
    }
   ],
   "source": [
    "print('np.median(x)----->',np.median(x))"
   ]
  },
  {
   "cell_type": "code",
   "execution_count": 18,
   "metadata": {},
   "outputs": [
    {
     "name": "stdout",
     "output_type": "stream",
     "text": [
      "stats.mode(x)-----> 34\n"
     ]
    }
   ],
   "source": [
    "from scipy import stats\n",
    "\n",
    "print('stats.mode(x)----->',stats.mode(x).mode[0])"
   ]
  },
  {
   "cell_type": "code",
   "execution_count": 29,
   "metadata": {},
   "outputs": [
    {
     "name": "stdout",
     "output_type": "stream",
     "text": [
      "np.percentile(x, 25)-----> 27.0\n",
      "np.percentile(x, 75)-----> 61.0\n"
     ]
    }
   ],
   "source": [
    "print('np.percentile(x, 25)----->',np.percentile(x, 25))\n",
    "print('np.percentile(x, 75)----->',np.percentile(x, 75))"
   ]
  },
  {
   "cell_type": "code",
   "execution_count": 34,
   "metadata": {},
   "outputs": [
    {
     "name": "stdout",
     "output_type": "stream",
     "text": [
      "ironman.mean()-----> 80.0\n"
     ]
    }
   ],
   "source": [
    "import pandas as pd\n",
    "ironman = pd.Series([60,70,80,80,90,100])\n",
    "print('ironman.mean()----->',ironman.mean())"
   ]
  },
  {
   "cell_type": "code",
   "execution_count": 35,
   "metadata": {},
   "outputs": [
    {
     "name": "stdout",
     "output_type": "stream",
     "text": [
      "ironman.mad()-----> 10.0\n"
     ]
    }
   ],
   "source": [
    "print('ironman.mad()----->',ironman.mad())"
   ]
  },
  {
   "cell_type": "code",
   "execution_count": 36,
   "metadata": {},
   "outputs": [
    {
     "name": "stdout",
     "output_type": "stream",
     "text": [
      "ironman.var()-----> 200.0\n"
     ]
    }
   ],
   "source": [
    "print('ironman.var()----->',ironman.var())"
   ]
  },
  {
   "cell_type": "code",
   "execution_count": 37,
   "metadata": {},
   "outputs": [
    {
     "name": "stdout",
     "output_type": "stream",
     "text": [
      "ironman.std()-----> 14.142135623730951\n"
     ]
    }
   ],
   "source": [
    "print('ironman.std()----->',ironman.std())"
   ]
  },
  {
   "cell_type": "code",
   "execution_count": null,
   "metadata": {},
   "outputs": [],
   "source": []
  }
 ],
 "metadata": {
  "kernelspec": {
   "display_name": "Python 3",
   "language": "python",
   "name": "python3"
  },
  "language_info": {
   "codemirror_mode": {
    "name": "ipython",
    "version": 3
   },
   "file_extension": ".py",
   "mimetype": "text/x-python",
   "name": "python",
   "nbconvert_exporter": "python",
   "pygments_lexer": "ipython3",
   "version": "3.6.5"
  }
 },
 "nbformat": 4,
 "nbformat_minor": 2
}
