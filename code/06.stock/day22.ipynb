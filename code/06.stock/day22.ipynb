{
 "cells": [
  {
   "cell_type": "code",
   "execution_count": 2,
   "metadata": {},
   "outputs": [
    {
     "name": "stdout",
     "output_type": "stream",
     "text": [
      "第一個月收益： 20\n",
      "第二個月收益： 10.0\n"
     ]
    }
   ],
   "source": [
    "money = 10\n",
    "first_month = 10*(1+1)\n",
    "second_month = first_month*(1-0.5)\n",
    "print('第一個月收益：',first_month)\n",
    "print('第二個月收益：',second_month)"
   ]
  },
  {
   "cell_type": "code",
   "execution_count": 4,
   "metadata": {},
   "outputs": [
    {
     "name": "stdout",
     "output_type": "stream",
     "text": [
      "第一種股票餘額： 9.9\n",
      "第二種股票餘額： 9.9\n"
     ]
    }
   ],
   "source": [
    "money = 10\n",
    "up_first_day = 10*(1+0.1)\n",
    "up_second_day = up_first_day*(1-0.1)\n",
    "\n",
    "down_first_day = 10*(1-0.1)\n",
    "up_second_day = down_first_day*(1+0.1)\n",
    "print('第一種股票餘額：',up_second_day)\n",
    "print('第二種股票餘額：',up_second_day)\n"
   ]
  },
  {
   "cell_type": "code",
   "execution_count": 14,
   "metadata": {},
   "outputs": [
    {
     "name": "stdout",
     "output_type": "stream",
     "text": [
      "六年後的資本額： 13.977600000000004    收益率： 0.05739868994194808\n"
     ]
    }
   ],
   "source": [
    "import math as math\n",
    "money = 10\n",
    "six_year = 10*(1+0.4)*(1-0.2)*(1+0.3)*(1-0.2)*(1+0.5)*(1-0.2)\n",
    "rate = math.pow((six_year/money),1/6)-1\n",
    "print('六年後的資本額：',six_year, \"   收益率：\",rate)"
   ]
  },
  {
   "cell_type": "code",
   "execution_count": 18,
   "metadata": {},
   "outputs": [
    {
     "name": "stdout",
     "output_type": "stream",
     "text": [
      "一年的資本額： 601.6077884148732    二年的資本額： 7238.638621628698\n"
     ]
    }
   ],
   "source": [
    "money = 50\n",
    "day = 250\n",
    "print('一年的資本額：',math.pow(1+0.01,day) * money, \"   二年的資本額：\",math.pow(1+0.01,day*2) * money)"
   ]
  },
  {
   "cell_type": "code",
   "execution_count": 24,
   "metadata": {},
   "outputs": [
    {
     "name": "stdout",
     "output_type": "stream",
     "text": [
      "最佳投資： 112.0\n",
      "最差投資： 100.0\n",
      "平均投資： 106.0\n"
     ]
    }
   ],
   "source": [
    "money = 100\n",
    "big_risk = 20\n",
    "print('最佳投資：', ( (100-big_risk)*(1+0.05) + (big_risk)*(1+0.4)))\n",
    "print('最差投資：', ( (100-big_risk)*(1+0.05) + (big_risk)*(1-0.2)))\n",
    "print('平均投資：', ( (100-big_risk)*(1+0.05) + (big_risk)*0.5*(1-0.2) + (big_risk)*0.5*(1+0.4) ))"
   ]
  },
  {
   "cell_type": "code",
   "execution_count": 25,
   "metadata": {},
   "outputs": [
    {
     "data": {
      "text/plain": [
       "-0.15819999999999995"
      ]
     },
     "execution_count": 25,
     "metadata": {},
     "output_type": "execute_result"
    }
   ],
   "source": [
    "0.53*0.34+0.47*(-0.72)"
   ]
  },
  {
   "cell_type": "code",
   "execution_count": null,
   "metadata": {},
   "outputs": [],
   "source": []
  },
  {
   "cell_type": "code",
   "execution_count": null,
   "metadata": {},
   "outputs": [],
   "source": []
  }
 ],
 "metadata": {
  "kernelspec": {
   "display_name": "Python 3",
   "language": "python",
   "name": "python3"
  },
  "language_info": {
   "codemirror_mode": {
    "name": "ipython",
    "version": 3
   },
   "file_extension": ".py",
   "mimetype": "text/x-python",
   "name": "python",
   "nbconvert_exporter": "python",
   "pygments_lexer": "ipython3",
   "version": "3.6.5"
  }
 },
 "nbformat": 4,
 "nbformat_minor": 2
}
