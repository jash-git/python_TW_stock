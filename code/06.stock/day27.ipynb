{
 "cells": [
  {
   "cell_type": "code",
   "execution_count": 14,
   "metadata": {},
   "outputs": [],
   "source": [
    "# basic\n",
    "import numpy as np\n",
    "import pandas as pd\n",
    "\n",
    "# get data\n",
    "import pandas_datareader as pdr\n",
    "\n",
    "# visual\n",
    "import matplotlib.pyplot as plt\n",
    "%matplotlib inline\n",
    "import seaborn as sns\n",
    "\n",
    "#time\n",
    "import datetime as datetime"
   ]
  },
  {
   "cell_type": "code",
   "execution_count": 15,
   "metadata": {},
   "outputs": [
    {
     "data": {
      "text/html": [
       "<div>\n",
       "<style scoped>\n",
       "    .dataframe tbody tr th:only-of-type {\n",
       "        vertical-align: middle;\n",
       "    }\n",
       "\n",
       "    .dataframe tbody tr th {\n",
       "        vertical-align: top;\n",
       "    }\n",
       "\n",
       "    .dataframe thead th {\n",
       "        text-align: right;\n",
       "    }\n",
       "</style>\n",
       "<table border=\"1\" class=\"dataframe\">\n",
       "  <thead>\n",
       "    <tr style=\"text-align: right;\">\n",
       "      <th></th>\n",
       "      <th>High</th>\n",
       "      <th>Low</th>\n",
       "      <th>Open</th>\n",
       "      <th>Close</th>\n",
       "      <th>Volume</th>\n",
       "      <th>Adj Close</th>\n",
       "    </tr>\n",
       "    <tr>\n",
       "      <th>Date</th>\n",
       "      <th></th>\n",
       "      <th></th>\n",
       "      <th></th>\n",
       "      <th></th>\n",
       "      <th></th>\n",
       "      <th></th>\n",
       "    </tr>\n",
       "  </thead>\n",
       "  <tbody>\n",
       "    <tr>\n",
       "      <th>2015-01-05</th>\n",
       "      <td>93.300003</td>\n",
       "      <td>92.599998</td>\n",
       "      <td>93.300003</td>\n",
       "      <td>93.000000</td>\n",
       "      <td>4423000.0</td>\n",
       "      <td>77.177879</td>\n",
       "    </tr>\n",
       "    <tr>\n",
       "      <th>2015-01-06</th>\n",
       "      <td>92.900002</td>\n",
       "      <td>92.099998</td>\n",
       "      <td>92.699997</td>\n",
       "      <td>92.500000</td>\n",
       "      <td>6703000.0</td>\n",
       "      <td>76.762955</td>\n",
       "    </tr>\n",
       "    <tr>\n",
       "      <th>2015-01-07</th>\n",
       "      <td>92.900002</td>\n",
       "      <td>92.300003</td>\n",
       "      <td>92.500000</td>\n",
       "      <td>92.500000</td>\n",
       "      <td>5999000.0</td>\n",
       "      <td>76.762955</td>\n",
       "    </tr>\n",
       "    <tr>\n",
       "      <th>2015-01-08</th>\n",
       "      <td>93.300003</td>\n",
       "      <td>92.699997</td>\n",
       "      <td>93.199997</td>\n",
       "      <td>92.800003</td>\n",
       "      <td>6113000.0</td>\n",
       "      <td>77.011917</td>\n",
       "    </tr>\n",
       "    <tr>\n",
       "      <th>2015-01-09</th>\n",
       "      <td>93.500000</td>\n",
       "      <td>92.800003</td>\n",
       "      <td>93.500000</td>\n",
       "      <td>93.000000</td>\n",
       "      <td>3736000.0</td>\n",
       "      <td>77.177879</td>\n",
       "    </tr>\n",
       "  </tbody>\n",
       "</table>\n",
       "</div>"
      ],
      "text/plain": [
       "                 High        Low       Open      Close     Volume  Adj Close\n",
       "Date                                                                        \n",
       "2015-01-05  93.300003  92.599998  93.300003  93.000000  4423000.0  77.177879\n",
       "2015-01-06  92.900002  92.099998  92.699997  92.500000  6703000.0  76.762955\n",
       "2015-01-07  92.900002  92.300003  92.500000  92.500000  5999000.0  76.762955\n",
       "2015-01-08  93.300003  92.699997  93.199997  92.800003  6113000.0  77.011917\n",
       "2015-01-09  93.500000  92.800003  93.500000  93.000000  3736000.0  77.177879"
      ]
     },
     "execution_count": 15,
     "metadata": {},
     "output_type": "execute_result"
    }
   ],
   "source": [
    "start = datetime.datetime(2015,1,5)\n",
    "df_2330 = pdr.DataReader('2330.TW', 'yahoo', start=start)\n",
    "df_2492 = pdr.DataReader('2492.TW', 'yahoo', start=start)\n",
    "df_3045 = pdr.DataReader('3045.TW', 'yahoo', start=start)\n",
    "df_2412 = pdr.DataReader('2412.TW', 'yahoo', start=start)\n",
    "df_2412.head()"
   ]
  },
  {
   "cell_type": "code",
   "execution_count": 16,
   "metadata": {},
   "outputs": [
    {
     "data": {
      "text/html": [
       "<div>\n",
       "<style scoped>\n",
       "    .dataframe tbody tr th:only-of-type {\n",
       "        vertical-align: middle;\n",
       "    }\n",
       "\n",
       "    .dataframe tbody tr th {\n",
       "        vertical-align: top;\n",
       "    }\n",
       "\n",
       "    .dataframe thead th {\n",
       "        text-align: right;\n",
       "    }\n",
       "</style>\n",
       "<table border=\"1\" class=\"dataframe\">\n",
       "  <thead>\n",
       "    <tr style=\"text-align: right;\">\n",
       "      <th></th>\n",
       "      <th>High</th>\n",
       "      <th>Low</th>\n",
       "      <th>Open</th>\n",
       "      <th>Close</th>\n",
       "      <th>Volume</th>\n",
       "      <th>Adj Close</th>\n",
       "      <th>normalized_price</th>\n",
       "    </tr>\n",
       "    <tr>\n",
       "      <th>Date</th>\n",
       "      <th></th>\n",
       "      <th></th>\n",
       "      <th></th>\n",
       "      <th></th>\n",
       "      <th></th>\n",
       "      <th></th>\n",
       "      <th></th>\n",
       "    </tr>\n",
       "  </thead>\n",
       "  <tbody>\n",
       "    <tr>\n",
       "      <th>2015-01-05</th>\n",
       "      <td>93.300003</td>\n",
       "      <td>92.599998</td>\n",
       "      <td>93.300003</td>\n",
       "      <td>93.000000</td>\n",
       "      <td>4423000.0</td>\n",
       "      <td>77.177879</td>\n",
       "      <td>1.000000</td>\n",
       "    </tr>\n",
       "    <tr>\n",
       "      <th>2015-01-06</th>\n",
       "      <td>92.900002</td>\n",
       "      <td>92.099998</td>\n",
       "      <td>92.699997</td>\n",
       "      <td>92.500000</td>\n",
       "      <td>6703000.0</td>\n",
       "      <td>76.762955</td>\n",
       "      <td>0.994624</td>\n",
       "    </tr>\n",
       "    <tr>\n",
       "      <th>2015-01-07</th>\n",
       "      <td>92.900002</td>\n",
       "      <td>92.300003</td>\n",
       "      <td>92.500000</td>\n",
       "      <td>92.500000</td>\n",
       "      <td>5999000.0</td>\n",
       "      <td>76.762955</td>\n",
       "      <td>0.994624</td>\n",
       "    </tr>\n",
       "    <tr>\n",
       "      <th>2015-01-08</th>\n",
       "      <td>93.300003</td>\n",
       "      <td>92.699997</td>\n",
       "      <td>93.199997</td>\n",
       "      <td>92.800003</td>\n",
       "      <td>6113000.0</td>\n",
       "      <td>77.011917</td>\n",
       "      <td>0.997850</td>\n",
       "    </tr>\n",
       "    <tr>\n",
       "      <th>2015-01-09</th>\n",
       "      <td>93.500000</td>\n",
       "      <td>92.800003</td>\n",
       "      <td>93.500000</td>\n",
       "      <td>93.000000</td>\n",
       "      <td>3736000.0</td>\n",
       "      <td>77.177879</td>\n",
       "      <td>1.000000</td>\n",
       "    </tr>\n",
       "  </tbody>\n",
       "</table>\n",
       "</div>"
      ],
      "text/plain": [
       "                 High        Low       Open      Close     Volume  Adj Close  \\\n",
       "Date                                                                           \n",
       "2015-01-05  93.300003  92.599998  93.300003  93.000000  4423000.0  77.177879   \n",
       "2015-01-06  92.900002  92.099998  92.699997  92.500000  6703000.0  76.762955   \n",
       "2015-01-07  92.900002  92.300003  92.500000  92.500000  5999000.0  76.762955   \n",
       "2015-01-08  93.300003  92.699997  93.199997  92.800003  6113000.0  77.011917   \n",
       "2015-01-09  93.500000  92.800003  93.500000  93.000000  3736000.0  77.177879   \n",
       "\n",
       "            normalized_price  \n",
       "Date                          \n",
       "2015-01-05          1.000000  \n",
       "2015-01-06          0.994624  \n",
       "2015-01-07          0.994624  \n",
       "2015-01-08          0.997850  \n",
       "2015-01-09          1.000000  "
      ]
     },
     "execution_count": 16,
     "metadata": {},
     "output_type": "execute_result"
    }
   ],
   "source": [
    "for stock in [df_2330, df_2492, df_3045, df_2412]:\n",
    "    stock['normalized_price']=stock['Adj Close']/stock['Adj Close'].iloc[0]\n",
    "df_2412.head()"
   ]
  },
  {
   "cell_type": "code",
   "execution_count": 17,
   "metadata": {},
   "outputs": [
    {
     "data": {
      "text/html": [
       "<div>\n",
       "<style scoped>\n",
       "    .dataframe tbody tr th:only-of-type {\n",
       "        vertical-align: middle;\n",
       "    }\n",
       "\n",
       "    .dataframe tbody tr th {\n",
       "        vertical-align: top;\n",
       "    }\n",
       "\n",
       "    .dataframe thead th {\n",
       "        text-align: right;\n",
       "    }\n",
       "</style>\n",
       "<table border=\"1\" class=\"dataframe\">\n",
       "  <thead>\n",
       "    <tr style=\"text-align: right;\">\n",
       "      <th></th>\n",
       "      <th>High</th>\n",
       "      <th>Low</th>\n",
       "      <th>Open</th>\n",
       "      <th>Close</th>\n",
       "      <th>Volume</th>\n",
       "      <th>Adj Close</th>\n",
       "      <th>normalized_price</th>\n",
       "      <th>weighted daily return</th>\n",
       "    </tr>\n",
       "    <tr>\n",
       "      <th>Date</th>\n",
       "      <th></th>\n",
       "      <th></th>\n",
       "      <th></th>\n",
       "      <th></th>\n",
       "      <th></th>\n",
       "      <th></th>\n",
       "      <th></th>\n",
       "      <th></th>\n",
       "    </tr>\n",
       "  </thead>\n",
       "  <tbody>\n",
       "    <tr>\n",
       "      <th>2015-01-05</th>\n",
       "      <td>93.300003</td>\n",
       "      <td>92.599998</td>\n",
       "      <td>93.300003</td>\n",
       "      <td>93.000000</td>\n",
       "      <td>4423000.0</td>\n",
       "      <td>77.177879</td>\n",
       "      <td>1.000000</td>\n",
       "      <td>0.250000</td>\n",
       "    </tr>\n",
       "    <tr>\n",
       "      <th>2015-01-06</th>\n",
       "      <td>92.900002</td>\n",
       "      <td>92.099998</td>\n",
       "      <td>92.699997</td>\n",
       "      <td>92.500000</td>\n",
       "      <td>6703000.0</td>\n",
       "      <td>76.762955</td>\n",
       "      <td>0.994624</td>\n",
       "      <td>0.248656</td>\n",
       "    </tr>\n",
       "    <tr>\n",
       "      <th>2015-01-07</th>\n",
       "      <td>92.900002</td>\n",
       "      <td>92.300003</td>\n",
       "      <td>92.500000</td>\n",
       "      <td>92.500000</td>\n",
       "      <td>5999000.0</td>\n",
       "      <td>76.762955</td>\n",
       "      <td>0.994624</td>\n",
       "      <td>0.248656</td>\n",
       "    </tr>\n",
       "    <tr>\n",
       "      <th>2015-01-08</th>\n",
       "      <td>93.300003</td>\n",
       "      <td>92.699997</td>\n",
       "      <td>93.199997</td>\n",
       "      <td>92.800003</td>\n",
       "      <td>6113000.0</td>\n",
       "      <td>77.011917</td>\n",
       "      <td>0.997850</td>\n",
       "      <td>0.249462</td>\n",
       "    </tr>\n",
       "    <tr>\n",
       "      <th>2015-01-09</th>\n",
       "      <td>93.500000</td>\n",
       "      <td>92.800003</td>\n",
       "      <td>93.500000</td>\n",
       "      <td>93.000000</td>\n",
       "      <td>3736000.0</td>\n",
       "      <td>77.177879</td>\n",
       "      <td>1.000000</td>\n",
       "      <td>0.250000</td>\n",
       "    </tr>\n",
       "  </tbody>\n",
       "</table>\n",
       "</div>"
      ],
      "text/plain": [
       "                 High        Low       Open      Close     Volume  Adj Close  \\\n",
       "Date                                                                           \n",
       "2015-01-05  93.300003  92.599998  93.300003  93.000000  4423000.0  77.177879   \n",
       "2015-01-06  92.900002  92.099998  92.699997  92.500000  6703000.0  76.762955   \n",
       "2015-01-07  92.900002  92.300003  92.500000  92.500000  5999000.0  76.762955   \n",
       "2015-01-08  93.300003  92.699997  93.199997  92.800003  6113000.0  77.011917   \n",
       "2015-01-09  93.500000  92.800003  93.500000  93.000000  3736000.0  77.177879   \n",
       "\n",
       "            normalized_price  weighted daily return  \n",
       "Date                                                 \n",
       "2015-01-05          1.000000               0.250000  \n",
       "2015-01-06          0.994624               0.248656  \n",
       "2015-01-07          0.994624               0.248656  \n",
       "2015-01-08          0.997850               0.249462  \n",
       "2015-01-09          1.000000               0.250000  "
      ]
     },
     "execution_count": 17,
     "metadata": {},
     "output_type": "execute_result"
    }
   ],
   "source": [
    "for stock, weight in zip([df_2330, df_2492, df_3045, df_2412],[0.3, 0.2, 0.25, 0.25]):\n",
    "    stock['weighted daily return']=stock['normalized_price']*weight\n",
    "df_2412.head()"
   ]
  },
  {
   "cell_type": "code",
   "execution_count": 18,
   "metadata": {},
   "outputs": [
    {
     "data": {
      "text/html": [
       "<div>\n",
       "<style scoped>\n",
       "    .dataframe tbody tr th:only-of-type {\n",
       "        vertical-align: middle;\n",
       "    }\n",
       "\n",
       "    .dataframe tbody tr th {\n",
       "        vertical-align: top;\n",
       "    }\n",
       "\n",
       "    .dataframe thead th {\n",
       "        text-align: right;\n",
       "    }\n",
       "</style>\n",
       "<table border=\"1\" class=\"dataframe\">\n",
       "  <thead>\n",
       "    <tr style=\"text-align: right;\">\n",
       "      <th></th>\n",
       "      <th>2330</th>\n",
       "      <th>2492</th>\n",
       "      <th>3045</th>\n",
       "      <th>2412</th>\n",
       "    </tr>\n",
       "    <tr>\n",
       "      <th>Date</th>\n",
       "      <th></th>\n",
       "      <th></th>\n",
       "      <th></th>\n",
       "      <th></th>\n",
       "    </tr>\n",
       "  </thead>\n",
       "  <tbody>\n",
       "    <tr>\n",
       "      <th>2015-01-05</th>\n",
       "      <td>0.300000</td>\n",
       "      <td>0.200000</td>\n",
       "      <td>0.250000</td>\n",
       "      <td>0.250000</td>\n",
       "    </tr>\n",
       "    <tr>\n",
       "      <th>2015-01-06</th>\n",
       "      <td>0.287097</td>\n",
       "      <td>0.194263</td>\n",
       "      <td>0.243990</td>\n",
       "      <td>0.248656</td>\n",
       "    </tr>\n",
       "    <tr>\n",
       "      <th>2015-01-07</th>\n",
       "      <td>0.288172</td>\n",
       "      <td>0.191804</td>\n",
       "      <td>0.241587</td>\n",
       "      <td>0.248656</td>\n",
       "    </tr>\n",
       "    <tr>\n",
       "      <th>2015-01-08</th>\n",
       "      <td>0.296774</td>\n",
       "      <td>0.194263</td>\n",
       "      <td>0.251202</td>\n",
       "      <td>0.249462</td>\n",
       "    </tr>\n",
       "    <tr>\n",
       "      <th>2015-01-09</th>\n",
       "      <td>0.288172</td>\n",
       "      <td>0.195902</td>\n",
       "      <td>0.253606</td>\n",
       "      <td>0.250000</td>\n",
       "    </tr>\n",
       "  </tbody>\n",
       "</table>\n",
       "</div>"
      ],
      "text/plain": [
       "                2330      2492      3045      2412\n",
       "Date                                              \n",
       "2015-01-05  0.300000  0.200000  0.250000  0.250000\n",
       "2015-01-06  0.287097  0.194263  0.243990  0.248656\n",
       "2015-01-07  0.288172  0.191804  0.241587  0.248656\n",
       "2015-01-08  0.296774  0.194263  0.251202  0.249462\n",
       "2015-01-09  0.288172  0.195902  0.253606  0.250000"
      ]
     },
     "execution_count": 18,
     "metadata": {},
     "output_type": "execute_result"
    }
   ],
   "source": [
    "df_total=pd.concat([df_2330['weighted daily return'], df_2492['weighted daily return'], df_3045['weighted daily return'], df_2412['weighted daily return']],axis=1)\n",
    "df_total.columns=['2330', '2492', '3045', '2412']\n",
    "df_total.head()"
   ]
  },
  {
   "cell_type": "code",
   "execution_count": 19,
   "metadata": {},
   "outputs": [
    {
     "data": {
      "text/html": [
       "<div>\n",
       "<style scoped>\n",
       "    .dataframe tbody tr th:only-of-type {\n",
       "        vertical-align: middle;\n",
       "    }\n",
       "\n",
       "    .dataframe tbody tr th {\n",
       "        vertical-align: top;\n",
       "    }\n",
       "\n",
       "    .dataframe thead th {\n",
       "        text-align: right;\n",
       "    }\n",
       "</style>\n",
       "<table border=\"1\" class=\"dataframe\">\n",
       "  <thead>\n",
       "    <tr style=\"text-align: right;\">\n",
       "      <th></th>\n",
       "      <th>2330</th>\n",
       "      <th>2492</th>\n",
       "      <th>3045</th>\n",
       "      <th>2412</th>\n",
       "      <th>Total Pos</th>\n",
       "    </tr>\n",
       "    <tr>\n",
       "      <th>Date</th>\n",
       "      <th></th>\n",
       "      <th></th>\n",
       "      <th></th>\n",
       "      <th></th>\n",
       "      <th></th>\n",
       "    </tr>\n",
       "  </thead>\n",
       "  <tbody>\n",
       "    <tr>\n",
       "      <th>2015-01-05</th>\n",
       "      <td>30000.000000</td>\n",
       "      <td>20000.000000</td>\n",
       "      <td>25000.000000</td>\n",
       "      <td>25000.000000</td>\n",
       "      <td>100000.000000</td>\n",
       "    </tr>\n",
       "    <tr>\n",
       "      <th>2015-01-06</th>\n",
       "      <td>28709.677419</td>\n",
       "      <td>19426.253159</td>\n",
       "      <td>24399.039771</td>\n",
       "      <td>24865.594706</td>\n",
       "      <td>97400.565056</td>\n",
       "    </tr>\n",
       "    <tr>\n",
       "      <th>2015-01-07</th>\n",
       "      <td>28817.204301</td>\n",
       "      <td>19180.360801</td>\n",
       "      <td>24158.652108</td>\n",
       "      <td>24865.594706</td>\n",
       "      <td>97021.811916</td>\n",
       "    </tr>\n",
       "    <tr>\n",
       "      <th>2015-01-08</th>\n",
       "      <td>29677.419355</td>\n",
       "      <td>19426.253159</td>\n",
       "      <td>25120.193832</td>\n",
       "      <td>24946.240354</td>\n",
       "      <td>99170.106700</td>\n",
       "    </tr>\n",
       "    <tr>\n",
       "      <th>2015-01-09</th>\n",
       "      <td>28817.204301</td>\n",
       "      <td>19590.182197</td>\n",
       "      <td>25360.579263</td>\n",
       "      <td>25000.000000</td>\n",
       "      <td>98767.965760</td>\n",
       "    </tr>\n",
       "  </tbody>\n",
       "</table>\n",
       "</div>"
      ],
      "text/plain": [
       "                    2330          2492          3045          2412  \\\n",
       "Date                                                                 \n",
       "2015-01-05  30000.000000  20000.000000  25000.000000  25000.000000   \n",
       "2015-01-06  28709.677419  19426.253159  24399.039771  24865.594706   \n",
       "2015-01-07  28817.204301  19180.360801  24158.652108  24865.594706   \n",
       "2015-01-08  29677.419355  19426.253159  25120.193832  24946.240354   \n",
       "2015-01-09  28817.204301  19590.182197  25360.579263  25000.000000   \n",
       "\n",
       "                Total Pos  \n",
       "Date                       \n",
       "2015-01-05  100000.000000  \n",
       "2015-01-06   97400.565056  \n",
       "2015-01-07   97021.811916  \n",
       "2015-01-08   99170.106700  \n",
       "2015-01-09   98767.965760  "
      ]
     },
     "execution_count": 19,
     "metadata": {},
     "output_type": "execute_result"
    }
   ],
   "source": [
    "df_total_money = df_total* 100000\n",
    "df_total_money['Total Pos']=df_total_money.sum(axis=1)\n",
    "df_total_money.head()\n"
   ]
  },
  {
   "cell_type": "code",
   "execution_count": 20,
   "metadata": {},
   "outputs": [
    {
     "data": {
      "image/png": "[encoded data removed]",
      "text/plain": [
       "<Figure size 720x432 with 1 Axes>"
      ]
     },
     "metadata": {},
     "output_type": "display_data"
    }
   ],
   "source": [
    "fig = plt.figure(figsize=(10, 6))\n",
    "plt.plot(df_total_money['Total Pos'], '-' , label=\"總收益\")\n",
    "plt.plot(df_total_money['2330'], '-' , label=\"台積電\")\n",
    "plt.plot(df_total_money['2492'], '-' , label=\"華新科\")\n",
    "plt.plot(df_total_money['3045'], '-' , label=\"台灣大\")\n",
    "plt.plot(df_total_money['2412'], '-' , label=\"中華電\")\n",
    "plt.title('收益曲線',loc='right')\n",
    "\n",
    "plt.xlabel('日期')\n",
    "plt.ylabel('金額')\n",
    "plt.grid(True, axis='y')\n",
    "plt.legend()\n",
    "fig.savefig('day26_01.png')"
   ]
  },
  {
   "cell_type": "code",
   "execution_count": 21,
   "metadata": {},
   "outputs": [
    {
     "data": {
      "text/plain": [
       "Date\n",
       "2015-01-05         NaN\n",
       "2015-01-06   -0.025994\n",
       "2015-01-07   -0.003889\n",
       "2015-01-08    0.022142\n",
       "2015-01-09   -0.004055\n",
       "Name: daily return, dtype: float64"
      ]
     },
     "execution_count": 21,
     "metadata": {},
     "output_type": "execute_result"
    }
   ],
   "source": [
    "df_total_money['daily return']=df_total_money['Total Pos'].pct_change()\n",
    "df_total_money['daily return'].head()"
   ]
  },
  {
   "cell_type": "code",
   "execution_count": 22,
   "metadata": {},
   "outputs": [
    {
     "name": "stdout",
     "output_type": "stream",
     "text": [
      "累積收益率： 2.1422835064362724\n"
     ]
    }
   ],
   "source": [
    "print(\"累積收益率：\",df_total_money['Total Pos'].iloc[-1]/df_total_money['Total Pos'].iloc[0]-1)"
   ]
  },
  {
   "cell_type": "code",
   "execution_count": 23,
   "metadata": {},
   "outputs": [
    {
     "name": "stdout",
     "output_type": "stream",
     "text": [
      "平均收益率： 0.0014527193039731144\n"
     ]
    }
   ],
   "source": [
    "print(\"平均收益率：\",df_total_money['daily return'].mean())"
   ]
  },
  {
   "cell_type": "code",
   "execution_count": 24,
   "metadata": {},
   "outputs": [
    {
     "name": "stdout",
     "output_type": "stream",
     "text": [
      "收益率標準差： 0.021456679894525994\n"
     ]
    }
   ],
   "source": [
    "print(\"收益率標準差：\",df_total_money['daily return'].std())"
   ]
  },
  {
   "cell_type": "code",
   "execution_count": 25,
   "metadata": {},
   "outputs": [
    {
     "data": {
      "image/png": "[encoded data removed]",
      "text/plain": [
       "<Figure size 720x432 with 1 Axes>"
      ]
     },
     "metadata": {},
     "output_type": "display_data"
    }
   ],
   "source": [
    "plt.rcParams['axes.unicode_minus']=False\n",
    "fig = plt.figure(figsize=(10, 6))\n",
    "sns.distplot(df_total_money['daily return'].dropna(),bins=100, label=\"總收益率\")\n",
    "plt.legend()\n",
    "fig.savefig('day26_02.png')"
   ]
  },
  {
   "cell_type": "code",
   "execution_count": 27,
   "metadata": {},
   "outputs": [
    {
     "data": {
      "text/plain": [
       "0.06770475726506646"
      ]
     },
     "execution_count": 27,
     "metadata": {},
     "output_type": "execute_result"
    }
   ],
   "source": [
    "SR=df_total_money['daily return'].mean()/df_total_money['daily return'].std()\n",
    "SR"
   ]
  },
  {
   "cell_type": "code",
   "execution_count": 28,
   "metadata": {},
   "outputs": [
    {
     "data": {
      "text/plain": [
       "1.0747797017961567"
      ]
     },
     "execution_count": 28,
     "metadata": {},
     "output_type": "execute_result"
    }
   ],
   "source": [
    "ASR=np.sqrt(252)*SR\n",
    "ASR"
   ]
  },
  {
   "cell_type": "code",
   "execution_count": null,
   "metadata": {},
   "outputs": [],
   "source": []
  }
 ],
 "metadata": {
  "kernelspec": {
   "display_name": "Python 3",
   "language": "python",
   "name": "python3"
  },
  "language_info": {
   "codemirror_mode": {
    "name": "ipython",
    "version": 3
   },
   "file_extension": ".py",
   "mimetype": "text/x-python",
   "name": "python",
   "nbconvert_exporter": "python",
   "pygments_lexer": "ipython3",
   "version": "3.6.5"
  }
 },
 "nbformat": 4,
 "nbformat_minor": 2
}
