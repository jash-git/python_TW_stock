{
 "cells": [
  {
   "cell_type": "code",
   "execution_count": 1,
   "metadata": {},
   "outputs": [],
   "source": [
    "\n",
    "# basic\n",
    "import numpy as np\n",
    "import pandas as pd\n",
    "\n",
    "# get data\n",
    "import pandas_datareader as pdr\n",
    "\n",
    "# visual\n",
    "import matplotlib.pyplot as plt\n",
    "%matplotlib inline\n",
    "import seaborn as sns\n",
    "\n",
    "#time\n",
    "import datetime as datetime\n"
   ]
  },
  {
   "cell_type": "code",
   "execution_count": 14,
   "metadata": {},
   "outputs": [
    {
     "data": {
      "text/html": [
       "<div>\n",
       "<style scoped>\n",
       "    .dataframe tbody tr th:only-of-type {\n",
       "        vertical-align: middle;\n",
       "    }\n",
       "\n",
       "    .dataframe tbody tr th {\n",
       "        vertical-align: top;\n",
       "    }\n",
       "\n",
       "    .dataframe thead th {\n",
       "        text-align: right;\n",
       "    }\n",
       "</style>\n",
       "<table border=\"1\" class=\"dataframe\">\n",
       "  <thead>\n",
       "    <tr style=\"text-align: right;\">\n",
       "      <th></th>\n",
       "      <th>High</th>\n",
       "      <th>Low</th>\n",
       "      <th>Open</th>\n",
       "      <th>Close</th>\n",
       "      <th>Volume</th>\n",
       "      <th>Adj Close</th>\n",
       "    </tr>\n",
       "    <tr>\n",
       "      <th>Date</th>\n",
       "      <th></th>\n",
       "      <th></th>\n",
       "      <th></th>\n",
       "      <th></th>\n",
       "      <th></th>\n",
       "      <th></th>\n",
       "    </tr>\n",
       "  </thead>\n",
       "  <tbody>\n",
       "    <tr>\n",
       "      <th>2015-01-05</th>\n",
       "      <td>93.300003</td>\n",
       "      <td>92.599998</td>\n",
       "      <td>93.300003</td>\n",
       "      <td>93.000000</td>\n",
       "      <td>4423000.0</td>\n",
       "      <td>77.177879</td>\n",
       "    </tr>\n",
       "    <tr>\n",
       "      <th>2015-01-06</th>\n",
       "      <td>92.900002</td>\n",
       "      <td>92.099998</td>\n",
       "      <td>92.699997</td>\n",
       "      <td>92.500000</td>\n",
       "      <td>6703000.0</td>\n",
       "      <td>76.762955</td>\n",
       "    </tr>\n",
       "    <tr>\n",
       "      <th>2015-01-07</th>\n",
       "      <td>92.900002</td>\n",
       "      <td>92.300003</td>\n",
       "      <td>92.500000</td>\n",
       "      <td>92.500000</td>\n",
       "      <td>5999000.0</td>\n",
       "      <td>76.762955</td>\n",
       "    </tr>\n",
       "    <tr>\n",
       "      <th>2015-01-08</th>\n",
       "      <td>93.300003</td>\n",
       "      <td>92.699997</td>\n",
       "      <td>93.199997</td>\n",
       "      <td>92.800003</td>\n",
       "      <td>6113000.0</td>\n",
       "      <td>77.011917</td>\n",
       "    </tr>\n",
       "    <tr>\n",
       "      <th>2015-01-09</th>\n",
       "      <td>93.500000</td>\n",
       "      <td>92.800003</td>\n",
       "      <td>93.500000</td>\n",
       "      <td>93.000000</td>\n",
       "      <td>3736000.0</td>\n",
       "      <td>77.177879</td>\n",
       "    </tr>\n",
       "  </tbody>\n",
       "</table>\n",
       "</div>"
      ],
      "text/plain": [
       "                 High        Low       Open      Close     Volume  Adj Close\n",
       "Date                                                                        \n",
       "2015-01-05  93.300003  92.599998  93.300003  93.000000  4423000.0  77.177879\n",
       "2015-01-06  92.900002  92.099998  92.699997  92.500000  6703000.0  76.762955\n",
       "2015-01-07  92.900002  92.300003  92.500000  92.500000  5999000.0  76.762955\n",
       "2015-01-08  93.300003  92.699997  93.199997  92.800003  6113000.0  77.011917\n",
       "2015-01-09  93.500000  92.800003  93.500000  93.000000  3736000.0  77.177879"
      ]
     },
     "execution_count": 14,
     "metadata": {},
     "output_type": "execute_result"
    }
   ],
   "source": [
    "start = datetime.datetime(2015,1,5)\n",
    "df_2330 = pdr.DataReader('2330.TW', 'yahoo', start=start)\n",
    "df_2492 = pdr.DataReader('2492.TW', 'yahoo', start=start)\n",
    "df_3045 = pdr.DataReader('3045.TW', 'yahoo', start=start)\n",
    "df_2412 = pdr.DataReader('2412.TW', 'yahoo', start=start)\n",
    "df_2412.head()"
   ]
  },
  {
   "cell_type": "code",
   "execution_count": 15,
   "metadata": {},
   "outputs": [
    {
     "data": {
      "text/html": [
       "<div>\n",
       "<style scoped>\n",
       "    .dataframe tbody tr th:only-of-type {\n",
       "        vertical-align: middle;\n",
       "    }\n",
       "\n",
       "    .dataframe tbody tr th {\n",
       "        vertical-align: top;\n",
       "    }\n",
       "\n",
       "    .dataframe thead th {\n",
       "        text-align: right;\n",
       "    }\n",
       "</style>\n",
       "<table border=\"1\" class=\"dataframe\">\n",
       "  <thead>\n",
       "    <tr style=\"text-align: right;\">\n",
       "      <th></th>\n",
       "      <th>2330</th>\n",
       "      <th>2492</th>\n",
       "      <th>3045</th>\n",
       "      <th>2412</th>\n",
       "    </tr>\n",
       "    <tr>\n",
       "      <th>Date</th>\n",
       "      <th></th>\n",
       "      <th></th>\n",
       "      <th></th>\n",
       "      <th></th>\n",
       "    </tr>\n",
       "  </thead>\n",
       "  <tbody>\n",
       "    <tr>\n",
       "      <th>2015-01-05</th>\n",
       "      <td>121.474525</td>\n",
       "      <td>15.927438</td>\n",
       "      <td>104.0</td>\n",
       "      <td>77.177879</td>\n",
       "    </tr>\n",
       "    <tr>\n",
       "      <th>2015-01-06</th>\n",
       "      <td>116.249802</td>\n",
       "      <td>15.470522</td>\n",
       "      <td>101.5</td>\n",
       "      <td>76.762955</td>\n",
       "    </tr>\n",
       "    <tr>\n",
       "      <th>2015-01-07</th>\n",
       "      <td>116.685204</td>\n",
       "      <td>15.274700</td>\n",
       "      <td>100.5</td>\n",
       "      <td>76.762955</td>\n",
       "    </tr>\n",
       "    <tr>\n",
       "      <th>2015-01-08</th>\n",
       "      <td>120.168327</td>\n",
       "      <td>15.470522</td>\n",
       "      <td>104.5</td>\n",
       "      <td>77.011917</td>\n",
       "    </tr>\n",
       "    <tr>\n",
       "      <th>2015-01-09</th>\n",
       "      <td>116.685204</td>\n",
       "      <td>15.601070</td>\n",
       "      <td>105.5</td>\n",
       "      <td>77.177879</td>\n",
       "    </tr>\n",
       "  </tbody>\n",
       "</table>\n",
       "</div>"
      ],
      "text/plain": [
       "                  2330       2492   3045       2412\n",
       "Date                                               \n",
       "2015-01-05  121.474525  15.927438  104.0  77.177879\n",
       "2015-01-06  116.249802  15.470522  101.5  76.762955\n",
       "2015-01-07  116.685204  15.274700  100.5  76.762955\n",
       "2015-01-08  120.168327  15.470522  104.5  77.011917\n",
       "2015-01-09  116.685204  15.601070  105.5  77.177879"
      ]
     },
     "execution_count": 15,
     "metadata": {},
     "output_type": "execute_result"
    }
   ],
   "source": [
    "df_total = pd.concat([df_2330['Adj Close'],df_2492['Adj Close'],df_3045['Adj Close'],df_2412['Adj Close']], axis=1)\n",
    "df_total.columns=['2330', '2492', '3045', '2412']\n",
    "df_total.head()"
   ]
  },
  {
   "cell_type": "code",
   "execution_count": 16,
   "metadata": {},
   "outputs": [
    {
     "data": {
      "text/plain": [
       "2330    0.000804\n",
       "2492    0.003145\n",
       "3045    0.000085\n",
       "2412    0.000350\n",
       "dtype: float64"
      ]
     },
     "execution_count": 16,
     "metadata": {},
     "output_type": "execute_result"
    }
   ],
   "source": [
    "df_total.pct_change().mean()"
   ]
  },
  {
   "cell_type": "code",
   "execution_count": 17,
   "metadata": {
    "scrolled": true
   },
   "outputs": [
    {
     "data": {
      "text/html": [
       "<div>\n",
       "<style scoped>\n",
       "    .dataframe tbody tr th:only-of-type {\n",
       "        vertical-align: middle;\n",
       "    }\n",
       "\n",
       "    .dataframe tbody tr th {\n",
       "        vertical-align: top;\n",
       "    }\n",
       "\n",
       "    .dataframe thead th {\n",
       "        text-align: right;\n",
       "    }\n",
       "</style>\n",
       "<table border=\"1\" class=\"dataframe\">\n",
       "  <thead>\n",
       "    <tr style=\"text-align: right;\">\n",
       "      <th></th>\n",
       "      <th>2330</th>\n",
       "      <th>2492</th>\n",
       "      <th>3045</th>\n",
       "      <th>2412</th>\n",
       "    </tr>\n",
       "  </thead>\n",
       "  <tbody>\n",
       "    <tr>\n",
       "      <th>2330</th>\n",
       "      <td>1.000000</td>\n",
       "      <td>0.180468</td>\n",
       "      <td>0.231437</td>\n",
       "      <td>0.319622</td>\n",
       "    </tr>\n",
       "    <tr>\n",
       "      <th>2492</th>\n",
       "      <td>0.180468</td>\n",
       "      <td>1.000000</td>\n",
       "      <td>0.086338</td>\n",
       "      <td>0.068075</td>\n",
       "    </tr>\n",
       "    <tr>\n",
       "      <th>3045</th>\n",
       "      <td>0.231437</td>\n",
       "      <td>0.086338</td>\n",
       "      <td>1.000000</td>\n",
       "      <td>0.333820</td>\n",
       "    </tr>\n",
       "    <tr>\n",
       "      <th>2412</th>\n",
       "      <td>0.319622</td>\n",
       "      <td>0.068075</td>\n",
       "      <td>0.333820</td>\n",
       "      <td>1.000000</td>\n",
       "    </tr>\n",
       "  </tbody>\n",
       "</table>\n",
       "</div>"
      ],
      "text/plain": [
       "          2330      2492      3045      2412\n",
       "2330  1.000000  0.180468  0.231437  0.319622\n",
       "2492  0.180468  1.000000  0.086338  0.068075\n",
       "3045  0.231437  0.086338  1.000000  0.333820\n",
       "2412  0.319622  0.068075  0.333820  1.000000"
      ]
     },
     "execution_count": 17,
     "metadata": {},
     "output_type": "execute_result"
    }
   ],
   "source": [
    "df_total.pct_change().corr()"
   ]
  },
  {
   "cell_type": "code",
   "execution_count": 18,
   "metadata": {},
   "outputs": [
    {
     "data": {
      "text/html": [
       "<div>\n",
       "<style scoped>\n",
       "    .dataframe tbody tr th:only-of-type {\n",
       "        vertical-align: middle;\n",
       "    }\n",
       "\n",
       "    .dataframe tbody tr th {\n",
       "        vertical-align: top;\n",
       "    }\n",
       "\n",
       "    .dataframe thead th {\n",
       "        text-align: right;\n",
       "    }\n",
       "</style>\n",
       "<table border=\"1\" class=\"dataframe\">\n",
       "  <thead>\n",
       "    <tr style=\"text-align: right;\">\n",
       "      <th></th>\n",
       "      <th>2330</th>\n",
       "      <th>2492</th>\n",
       "      <th>3045</th>\n",
       "      <th>2412</th>\n",
       "    </tr>\n",
       "    <tr>\n",
       "      <th>Date</th>\n",
       "      <th></th>\n",
       "      <th></th>\n",
       "      <th></th>\n",
       "      <th></th>\n",
       "    </tr>\n",
       "  </thead>\n",
       "  <tbody>\n",
       "    <tr>\n",
       "      <th>2015-01-05</th>\n",
       "      <td>1.000000</td>\n",
       "      <td>1.000000</td>\n",
       "      <td>1.000000</td>\n",
       "      <td>1.000000</td>\n",
       "    </tr>\n",
       "    <tr>\n",
       "      <th>2015-01-06</th>\n",
       "      <td>0.956989</td>\n",
       "      <td>0.971313</td>\n",
       "      <td>0.975962</td>\n",
       "      <td>0.994624</td>\n",
       "    </tr>\n",
       "    <tr>\n",
       "      <th>2015-01-07</th>\n",
       "      <td>0.960573</td>\n",
       "      <td>0.959018</td>\n",
       "      <td>0.966346</td>\n",
       "      <td>0.994624</td>\n",
       "    </tr>\n",
       "    <tr>\n",
       "      <th>2015-01-08</th>\n",
       "      <td>0.989247</td>\n",
       "      <td>0.971313</td>\n",
       "      <td>1.004808</td>\n",
       "      <td>0.997850</td>\n",
       "    </tr>\n",
       "    <tr>\n",
       "      <th>2015-01-09</th>\n",
       "      <td>0.960573</td>\n",
       "      <td>0.979509</td>\n",
       "      <td>1.014423</td>\n",
       "      <td>1.000000</td>\n",
       "    </tr>\n",
       "  </tbody>\n",
       "</table>\n",
       "</div>"
      ],
      "text/plain": [
       "                2330      2492      3045      2412\n",
       "Date                                              \n",
       "2015-01-05  1.000000  1.000000  1.000000  1.000000\n",
       "2015-01-06  0.956989  0.971313  0.975962  0.994624\n",
       "2015-01-07  0.960573  0.959018  0.966346  0.994624\n",
       "2015-01-08  0.989247  0.971313  1.004808  0.997850\n",
       "2015-01-09  0.960573  0.979509  1.014423  1.000000"
      ]
     },
     "execution_count": 18,
     "metadata": {},
     "output_type": "execute_result"
    }
   ],
   "source": [
    "normed_ret=df_total/df_total.iloc[0]\n",
    "normed_ret.head()"
   ]
  },
  {
   "cell_type": "code",
   "execution_count": 19,
   "metadata": {},
   "outputs": [
    {
     "data": {
      "text/html": [
       "<div>\n",
       "<style scoped>\n",
       "    .dataframe tbody tr th:only-of-type {\n",
       "        vertical-align: middle;\n",
       "    }\n",
       "\n",
       "    .dataframe tbody tr th {\n",
       "        vertical-align: top;\n",
       "    }\n",
       "\n",
       "    .dataframe thead th {\n",
       "        text-align: right;\n",
       "    }\n",
       "</style>\n",
       "<table border=\"1\" class=\"dataframe\">\n",
       "  <thead>\n",
       "    <tr style=\"text-align: right;\">\n",
       "      <th></th>\n",
       "      <th>2330</th>\n",
       "      <th>2492</th>\n",
       "      <th>3045</th>\n",
       "      <th>2412</th>\n",
       "    </tr>\n",
       "    <tr>\n",
       "      <th>Date</th>\n",
       "      <th></th>\n",
       "      <th></th>\n",
       "      <th></th>\n",
       "      <th></th>\n",
       "    </tr>\n",
       "  </thead>\n",
       "  <tbody>\n",
       "    <tr>\n",
       "      <th>2015-01-05</th>\n",
       "      <td>NaN</td>\n",
       "      <td>NaN</td>\n",
       "      <td>NaN</td>\n",
       "      <td>NaN</td>\n",
       "    </tr>\n",
       "    <tr>\n",
       "      <th>2015-01-06</th>\n",
       "      <td>-0.043011</td>\n",
       "      <td>-0.028687</td>\n",
       "      <td>-0.024038</td>\n",
       "      <td>-0.005376</td>\n",
       "    </tr>\n",
       "    <tr>\n",
       "      <th>2015-01-07</th>\n",
       "      <td>0.003745</td>\n",
       "      <td>-0.012658</td>\n",
       "      <td>-0.009852</td>\n",
       "      <td>0.000000</td>\n",
       "    </tr>\n",
       "    <tr>\n",
       "      <th>2015-01-08</th>\n",
       "      <td>0.029851</td>\n",
       "      <td>0.012820</td>\n",
       "      <td>0.039801</td>\n",
       "      <td>0.003243</td>\n",
       "    </tr>\n",
       "    <tr>\n",
       "      <th>2015-01-09</th>\n",
       "      <td>-0.028985</td>\n",
       "      <td>0.008439</td>\n",
       "      <td>0.009569</td>\n",
       "      <td>0.002155</td>\n",
       "    </tr>\n",
       "  </tbody>\n",
       "</table>\n",
       "</div>"
      ],
      "text/plain": [
       "                2330      2492      3045      2412\n",
       "Date                                              \n",
       "2015-01-05       NaN       NaN       NaN       NaN\n",
       "2015-01-06 -0.043011 -0.028687 -0.024038 -0.005376\n",
       "2015-01-07  0.003745 -0.012658 -0.009852  0.000000\n",
       "2015-01-08  0.029851  0.012820  0.039801  0.003243\n",
       "2015-01-09 -0.028985  0.008439  0.009569  0.002155"
      ]
     },
     "execution_count": 19,
     "metadata": {},
     "output_type": "execute_result"
    }
   ],
   "source": [
    "df_total.pct_change().head()"
   ]
  },
  {
   "cell_type": "code",
   "execution_count": 20,
   "metadata": {},
   "outputs": [
    {
     "data": {
      "text/html": [
       "<div>\n",
       "<style scoped>\n",
       "    .dataframe tbody tr th:only-of-type {\n",
       "        vertical-align: middle;\n",
       "    }\n",
       "\n",
       "    .dataframe tbody tr th {\n",
       "        vertical-align: top;\n",
       "    }\n",
       "\n",
       "    .dataframe thead th {\n",
       "        text-align: right;\n",
       "    }\n",
       "</style>\n",
       "<table border=\"1\" class=\"dataframe\">\n",
       "  <thead>\n",
       "    <tr style=\"text-align: right;\">\n",
       "      <th></th>\n",
       "      <th>2330</th>\n",
       "      <th>2492</th>\n",
       "      <th>3045</th>\n",
       "      <th>2412</th>\n",
       "    </tr>\n",
       "    <tr>\n",
       "      <th>Date</th>\n",
       "      <th></th>\n",
       "      <th></th>\n",
       "      <th></th>\n",
       "      <th></th>\n",
       "    </tr>\n",
       "  </thead>\n",
       "  <tbody>\n",
       "    <tr>\n",
       "      <th>2015-01-05</th>\n",
       "      <td>NaN</td>\n",
       "      <td>NaN</td>\n",
       "      <td>NaN</td>\n",
       "      <td>NaN</td>\n",
       "    </tr>\n",
       "    <tr>\n",
       "      <th>2015-01-06</th>\n",
       "      <td>-0.043963</td>\n",
       "      <td>-0.029107</td>\n",
       "      <td>-0.024332</td>\n",
       "      <td>-0.005391</td>\n",
       "    </tr>\n",
       "    <tr>\n",
       "      <th>2015-01-07</th>\n",
       "      <td>0.003738</td>\n",
       "      <td>-0.012739</td>\n",
       "      <td>-0.009901</td>\n",
       "      <td>0.000000</td>\n",
       "    </tr>\n",
       "    <tr>\n",
       "      <th>2015-01-08</th>\n",
       "      <td>0.029414</td>\n",
       "      <td>0.012739</td>\n",
       "      <td>0.039029</td>\n",
       "      <td>0.003238</td>\n",
       "    </tr>\n",
       "    <tr>\n",
       "      <th>2015-01-09</th>\n",
       "      <td>-0.029414</td>\n",
       "      <td>0.008403</td>\n",
       "      <td>0.009524</td>\n",
       "      <td>0.002153</td>\n",
       "    </tr>\n",
       "  </tbody>\n",
       "</table>\n",
       "</div>"
      ],
      "text/plain": [
       "                2330      2492      3045      2412\n",
       "Date                                              \n",
       "2015-01-05       NaN       NaN       NaN       NaN\n",
       "2015-01-06 -0.043963 -0.029107 -0.024332 -0.005391\n",
       "2015-01-07  0.003738 -0.012739 -0.009901  0.000000\n",
       "2015-01-08  0.029414  0.012739  0.039029  0.003238\n",
       "2015-01-09 -0.029414  0.008403  0.009524  0.002153"
      ]
     },
     "execution_count": 20,
     "metadata": {},
     "output_type": "execute_result"
    }
   ],
   "source": [
    "log_ret = np.log(df_total/df_total.shift(1))\n",
    "log_ret.head()"
   ]
  },
  {
   "cell_type": "code",
   "execution_count": 21,
   "metadata": {},
   "outputs": [
    {
     "data": {
      "text/plain": [
       "array([[<matplotlib.axes._subplots.AxesSubplot object at 0x000001C38A245FD0>,\n",
       "        <matplotlib.axes._subplots.AxesSubplot object at 0x000001C38A42F358>],\n",
       "       [<matplotlib.axes._subplots.AxesSubplot object at 0x000001C38A4198D0>,\n",
       "        <matplotlib.axes._subplots.AxesSubplot object at 0x000001C38A360E48>]],\n",
       "      dtype=object)"
      ]
     },
     "execution_count": 21,
     "metadata": {},
     "output_type": "execute_result"
    },
    {
     "data": {
      "image/png": "[encoded data removed]",
      "text/plain": [
       "<Figure size 864x576 with 4 Axes>"
      ]
     },
     "metadata": {},
     "output_type": "display_data"
    }
   ],
   "source": [
    "plt.rcParams['axes.unicode_minus']=False\n",
    "log_ret.hist(bins=100, figsize=(12, 8))"
   ]
  },
  {
   "cell_type": "code",
   "execution_count": 22,
   "metadata": {},
   "outputs": [
    {
     "data": {
      "text/plain": [
       "2330    0.000699\n",
       "2492    0.002422\n",
       "3045    0.000040\n",
       "2412    0.000328\n",
       "dtype: float64"
      ]
     },
     "execution_count": 22,
     "metadata": {},
     "output_type": "execute_result"
    }
   ],
   "source": [
    "log_ret.mean()"
   ]
  },
  {
   "cell_type": "code",
   "execution_count": 23,
   "metadata": {},
   "outputs": [
    {
     "data": {
      "text/html": [
       "<div>\n",
       "<style scoped>\n",
       "    .dataframe tbody tr th:only-of-type {\n",
       "        vertical-align: middle;\n",
       "    }\n",
       "\n",
       "    .dataframe tbody tr th {\n",
       "        vertical-align: top;\n",
       "    }\n",
       "\n",
       "    .dataframe thead th {\n",
       "        text-align: right;\n",
       "    }\n",
       "</style>\n",
       "<table border=\"1\" class=\"dataframe\">\n",
       "  <thead>\n",
       "    <tr style=\"text-align: right;\">\n",
       "      <th></th>\n",
       "      <th>2330</th>\n",
       "      <th>2492</th>\n",
       "      <th>3045</th>\n",
       "      <th>2412</th>\n",
       "    </tr>\n",
       "  </thead>\n",
       "  <tbody>\n",
       "    <tr>\n",
       "      <th>2330</th>\n",
       "      <td>0.000209</td>\n",
       "      <td>0.000103</td>\n",
       "      <td>0.000032</td>\n",
       "      <td>0.000031</td>\n",
       "    </tr>\n",
       "    <tr>\n",
       "      <th>2492</th>\n",
       "      <td>0.000103</td>\n",
       "      <td>0.001440</td>\n",
       "      <td>0.000032</td>\n",
       "      <td>0.000018</td>\n",
       "    </tr>\n",
       "    <tr>\n",
       "      <th>3045</th>\n",
       "      <td>0.000032</td>\n",
       "      <td>0.000032</td>\n",
       "      <td>0.000089</td>\n",
       "      <td>0.000021</td>\n",
       "    </tr>\n",
       "    <tr>\n",
       "      <th>2412</th>\n",
       "      <td>0.000031</td>\n",
       "      <td>0.000018</td>\n",
       "      <td>0.000021</td>\n",
       "      <td>0.000044</td>\n",
       "    </tr>\n",
       "  </tbody>\n",
       "</table>\n",
       "</div>"
      ],
      "text/plain": [
       "          2330      2492      3045      2412\n",
       "2330  0.000209  0.000103  0.000032  0.000031\n",
       "2492  0.000103  0.001440  0.000032  0.000018\n",
       "3045  0.000032  0.000032  0.000089  0.000021\n",
       "2412  0.000031  0.000018  0.000021  0.000044"
      ]
     },
     "execution_count": 23,
     "metadata": {},
     "output_type": "execute_result"
    }
   ],
   "source": [
    "log_ret.cov()"
   ]
  },
  {
   "cell_type": "code",
   "execution_count": 16,
   "metadata": {},
   "outputs": [
    {
     "name": "stdout",
     "output_type": "stream",
     "text": [
      "股票投資比重---> [0.3  0.2  0.25 0.25]\n",
      "投資組合的預期報酬---> 0.18986638440106773\n",
      "預期波動性---> 0.17017725257437183\n",
      "夏普指數---> 1.115697788798719\n"
     ]
    }
   ],
   "source": [
    "weight = np.array([0.3, 0.2, 0.25, 0.25])\n",
    "print('股票投資比重--->', weight)\n",
    "\n",
    "exp_ret = np.sum((log_ret.mean() * weight )* 252)\n",
    "print('投資組合的預期報酬--->', exp_ret)\n",
    "\n",
    "exp_vol = np.sqrt(np.dot(weight.T, np.dot(log_ret.cov()*252, weight)))\n",
    "print('預期波動性--->',exp_vol)\n",
    "\n",
    "SR = exp_ret/exp_vol\n",
    "print('夏普指數--->', SR)"
   ]
  },
  {
   "cell_type": "code",
   "execution_count": null,
   "metadata": {},
   "outputs": [],
   "source": []
  }
 ],
 "metadata": {
  "kernelspec": {
   "display_name": "Python 3",
   "language": "python",
   "name": "python3"
  },
  "language_info": {
   "codemirror_mode": {
    "name": "ipython",
    "version": 3
   },
   "file_extension": ".py",
   "mimetype": "text/x-python",
   "name": "python",
   "nbconvert_exporter": "python",
   "pygments_lexer": "ipython3",
   "version": "3.6.5"
  }
 },
 "nbformat": 4,
 "nbformat_minor": 2
}
