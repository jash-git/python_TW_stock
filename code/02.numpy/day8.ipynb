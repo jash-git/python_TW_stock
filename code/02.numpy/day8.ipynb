{
 "cells": [
  {
   "cell_type": "code",
   "execution_count": 1,
   "metadata": {},
   "outputs": [
    {
     "data": {
      "text/plain": [
       "47.407467980868724"
      ]
     },
     "execution_count": 1,
     "metadata": {},
     "output_type": "execute_result"
    }
   ],
   "source": [
    "import numpy as np\n",
    "L = np.random.random(100)  #在0到1間亂數值取100個\n",
    "np.sum(L)"
   ]
  },
  {
   "cell_type": "code",
   "execution_count": 19,
   "metadata": {},
   "outputs": [
    {
     "name": "stdout",
     "output_type": "stream",
     "text": [
      "[[0.90141178 0.44072501 0.5813923  0.06718993]\n",
      " [0.74907766 0.65631017 0.47611455 0.33805445]\n",
      " [0.79914804 0.9814414  0.23869758 0.10919935]]\n",
      "column 加總 [2.44963747 2.07847657 1.29620443 0.51444374]\n",
      "row 加總 [1.99071901 2.21955683 2.12848637]\n"
     ]
    }
   ],
   "source": [
    "m = np.random.random((3,4))\n",
    "print(m)\n",
    "print('column 加總', m.sum(axis=0)) #column加總\n",
    "print('row 加總', m.sum(axis=1)) #row加總"
   ]
  },
  {
   "cell_type": "code",
   "execution_count": 7,
   "metadata": {},
   "outputs": [
    {
     "name": "stdout",
     "output_type": "stream",
     "text": [
      "0 軸加總 [1.56915755 2.607736   1.3662265  1.08113255]\n",
      "1 軸加總 [2.31944909 1.90756859 2.39723492]\n"
     ]
    }
   ],
   "source": [
    "print('0 軸加總', m.sum(axis=0)) #0軸加總\n",
    "print('1 軸加總', m.sum(axis=1)) #1軸加總"
   ]
  },
  {
   "cell_type": "code",
   "execution_count": 8,
   "metadata": {},
   "outputs": [
    {
     "name": "stdout",
     "output_type": "stream",
     "text": [
      "min----> 1\n",
      "max----> 9978\n"
     ]
    }
   ],
   "source": [
    "ironman_int = np.random.randint(0,10000,200) #在整數0~10000之間取值200個\n",
    "print('min---->', np.min(ironman_int))\n",
    "print('max---->', np.max(ironman_int))"
   ]
  },
  {
   "cell_type": "code",
   "execution_count": 9,
   "metadata": {},
   "outputs": [
    {
     "name": "stdout",
     "output_type": "stream",
     "text": [
      "ironman_int_multi----> [[5832 2201 5872 7898]\n",
      " [2839 9766  342 1527]\n",
      " [ 273 3194 4789 4585]]\n",
      "ironman_int_multi.min(axis=0)-----> [ 273 2201  342 1527]\n",
      "ironman_int_multi.max(axis=1)-----> [7898 9766 4789]\n"
     ]
    }
   ],
   "source": [
    "ironman_int_multi = np.random.randint(0,10000,(3,4)) #建立3*4的陣列，值介在整數0~10000之間\n",
    "print('ironman_int_multi---->', ironman_int_multi)\n",
    "\n",
    "print('ironman_int_multi.min(axis=0)----->', ironman_int_multi.min(axis=0))\n",
    "print('ironman_int_multi.max(axis=1)----->', ironman_int_multi.max(axis=1))"
   ]
  },
  {
   "cell_type": "code",
   "execution_count": 10,
   "metadata": {},
   "outputs": [
    {
     "name": "stdout",
     "output_type": "stream",
     "text": [
      "818 ms ± 186 ms per loop (mean ± std. dev. of 7 runs, 1 loop each)\n",
      "14.1 ms ± 3.05 ms per loop (mean ± std. dev. of 7 runs, 100 loops each)\n"
     ]
    }
   ],
   "source": [
    "big_array = np.random.random(10000000) #在0到1間亂數值取10000000個\n",
    "%timeit min(big_array)\n",
    "%timeit np.min(big_array)"
   ]
  },
  {
   "cell_type": "code",
   "execution_count": 11,
   "metadata": {},
   "outputs": [
    {
     "data": {
      "text/plain": [
       "array([5, 6, 7])"
      ]
     },
     "execution_count": 11,
     "metadata": {},
     "output_type": "execute_result"
    }
   ],
   "source": [
    "a = np.array([0,1,2])\n",
    "a + 5"
   ]
  },
  {
   "cell_type": "code",
   "execution_count": 12,
   "metadata": {},
   "outputs": [
    {
     "name": "stdout",
     "output_type": "stream",
     "text": [
      "[0 1 2]\n",
      "[[0]\n",
      " [1]\n",
      " [2]]\n",
      "[[0 1 2]\n",
      " [1 2 3]\n",
      " [2 3 4]]\n"
     ]
    }
   ],
   "source": [
    "a = np.arange(3)\n",
    "b = np.arange(3)[:, np.newaxis]\n",
    "print(a)\n",
    "print(b)\n",
    "print(a+b)"
   ]
  },
  {
   "cell_type": "code",
   "execution_count": 13,
   "metadata": {},
   "outputs": [
    {
     "data": {
      "text/plain": [
       "array([False, False,  True,  True,  True])"
      ]
     },
     "execution_count": 13,
     "metadata": {},
     "output_type": "execute_result"
    }
   ],
   "source": [
    "x = np.array([1,2,3,4,5])\n",
    "x>2"
   ]
  },
  {
   "cell_type": "code",
   "execution_count": 14,
   "metadata": {},
   "outputs": [
    {
     "data": {
      "text/plain": [
       "3"
      ]
     },
     "execution_count": 14,
     "metadata": {},
     "output_type": "execute_result"
    }
   ],
   "source": [
    "np.count_nonzero(x>2)"
   ]
  },
  {
   "cell_type": "code",
   "execution_count": 15,
   "metadata": {},
   "outputs": [
    {
     "name": "stdout",
     "output_type": "stream",
     "text": [
      "[[6 5 6 9]\n",
      " [0 1 3 0]\n",
      " [7 5 0 3]]\n"
     ]
    },
    {
     "data": {
      "text/plain": [
       "array([3, 0, 1])"
      ]
     },
     "execution_count": 15,
     "metadata": {},
     "output_type": "execute_result"
    }
   ],
   "source": [
    "x = np.random.randint(10, size=(3,4))\n",
    "print(x)\n",
    "np.sum(x>5,axis = 1)"
   ]
  },
  {
   "cell_type": "code",
   "execution_count": 16,
   "metadata": {},
   "outputs": [
    {
     "data": {
      "text/plain": [
       "array([ True,  True,  True, False])"
      ]
     },
     "execution_count": 16,
     "metadata": {},
     "output_type": "execute_result"
    }
   ],
   "source": [
    "np.all(x<8,axis = 0)"
   ]
  },
  {
   "cell_type": "code",
   "execution_count": 17,
   "metadata": {},
   "outputs": [
    {
     "name": "stdout",
     "output_type": "stream",
     "text": [
      "[[3 7 0 5 6]\n",
      " [6 5 4 6 7]\n",
      " [5 4 3 7 0]\n",
      " [8 6 7 8 3]]\n"
     ]
    },
    {
     "data": {
      "text/plain": [
       "8"
      ]
     },
     "execution_count": 17,
     "metadata": {},
     "output_type": "execute_result"
    }
   ],
   "source": [
    "x = np.random.randint(10, size=(4,5))\n",
    "print(x)\n",
    "np.sum((x > 5) & (x <8))"
   ]
  },
  {
   "cell_type": "code",
   "execution_count": null,
   "metadata": {},
   "outputs": [],
   "source": []
  }
 ],
 "metadata": {
  "kernelspec": {
   "display_name": "Python 3",
   "language": "python",
   "name": "python3"
  },
  "language_info": {
   "codemirror_mode": {
    "name": "ipython",
    "version": 3
   },
   "file_extension": ".py",
   "mimetype": "text/x-python",
   "name": "python",
   "nbconvert_exporter": "python",
   "pygments_lexer": "ipython3",
   "version": "3.6.5"
  }
 },
 "nbformat": 4,
 "nbformat_minor": 2
}
