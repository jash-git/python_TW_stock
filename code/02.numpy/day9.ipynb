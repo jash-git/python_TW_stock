{
 "cells": [
  {
   "cell_type": "code",
   "execution_count": 1,
   "metadata": {},
   "outputs": [
    {
     "name": "stdout",
     "output_type": "stream",
     "text": [
      "x-----------> [66 74 84 13 37 83 58 90 84 23]\n"
     ]
    }
   ],
   "source": [
    "import numpy as np\n",
    "x = np.random.randint(0,100,size = 10)\n",
    "print('x----------->',x)\n"
   ]
  },
  {
   "cell_type": "code",
   "execution_count": 2,
   "metadata": {},
   "outputs": [
    {
     "data": {
      "text/plain": [
       "[66, 13, 84, 58]"
      ]
     },
     "execution_count": 2,
     "metadata": {},
     "output_type": "execute_result"
    }
   ],
   "source": [
    "[x[0],x[3],x[2],x[6]]"
   ]
  },
  {
   "cell_type": "code",
   "execution_count": 3,
   "metadata": {},
   "outputs": [
    {
     "data": {
      "text/plain": [
       "array([[66, 13],\n",
       "       [84, 58]])"
      ]
     },
     "execution_count": 3,
     "metadata": {},
     "output_type": "execute_result"
    }
   ],
   "source": [
    "ironman = np.array([\n",
    "    [0,3],\n",
    "    [2,6]\n",
    "])\n",
    "x[ironman]"
   ]
  },
  {
   "cell_type": "code",
   "execution_count": 8,
   "metadata": {},
   "outputs": [
    {
     "name": "stdout",
     "output_type": "stream",
     "text": [
      "y--------> [[65 76 49 29]\n",
      " [24 96 13 20]\n",
      " [91 58 37 24]]\n",
      "y[row,col]-----> [49 96 24]\n"
     ]
    }
   ],
   "source": [
    "y = np.random.randint(0,100,(3,4))\n",
    "print('y-------->',y)\n",
    "row = np.array([0,1,2])\n",
    "col = np.array([2,1,3])\n",
    "print('y[row,col]----->',y[row,col])"
   ]
  },
  {
   "cell_type": "code",
   "execution_count": 9,
   "metadata": {},
   "outputs": [
    {
     "name": "stdout",
     "output_type": "stream",
     "text": [
      "newRow-----> [[0]\n",
      " [1]\n",
      " [2]]\n",
      "y[newRow,col]-----> [[49 76 29]\n",
      " [13 96 20]\n",
      " [37 58 24]]\n"
     ]
    }
   ],
   "source": [
    "\n",
    "newRow = row[:, np.newaxis]\n",
    "print('newRow----->',newRow)\n",
    "print('y[newRow,col]----->',y[newRow,col])\n"
   ]
  },
  {
   "cell_type": "code",
   "execution_count": 11,
   "metadata": {},
   "outputs": [
    {
     "name": "stdout",
     "output_type": "stream",
     "text": [
      "x---------------> [91 38 11 54 82 67 63  4  7 34]\n",
      "i---------------> [2 1 5 7]\n",
      "x---------------> [91 33 33 54 82 33 63 33  7 34]\n"
     ]
    }
   ],
   "source": [
    "x = np.random.randint(0,100,size = 10)\n",
    "print('x--------------->',x)\n",
    "i = np.array([2,1,5,7])\n",
    "print('i--------------->',i)\n",
    "x[i] = 33\n",
    "print('x--------------->',x)"
   ]
  },
  {
   "cell_type": "code",
   "execution_count": 12,
   "metadata": {},
   "outputs": [
    {
     "name": "stdout",
     "output_type": "stream",
     "text": [
      "x---------------> [15 85 51 98 65 43 78 61 85 17]\n",
      "x---------------> [15 17 43 51 61 65 78 85 85 98]\n"
     ]
    }
   ],
   "source": [
    "x = np.random.randint(0,100,size = 10)\n",
    "print('x--------------->',x)\n",
    "x.sort()\n",
    "print('x--------------->',x)"
   ]
  },
  {
   "cell_type": "code",
   "execution_count": 13,
   "metadata": {},
   "outputs": [
    {
     "name": "stdout",
     "output_type": "stream",
     "text": [
      "x---------------> [40 22 91 18 74]\n",
      "np.argsort(x)---------------> [3 1 0 4 2]\n"
     ]
    }
   ],
   "source": [
    "x = np.random.randint(0,100,size = 5)\n",
    "print('x--------------->',x)\n",
    "print('np.argsort(x)--------------->',np.argsort(x))"
   ]
  },
  {
   "cell_type": "code",
   "execution_count": 14,
   "metadata": {},
   "outputs": [
    {
     "name": "stdout",
     "output_type": "stream",
     "text": [
      "x---------------> [[72 22 23 27]\n",
      " [50 39 78  3]\n",
      " [91 27 12 47]\n",
      " [75 75 78 94]]\n"
     ]
    },
    {
     "data": {
      "text/plain": [
       "array([[50, 22, 12,  3],\n",
       "       [72, 27, 23, 27],\n",
       "       [75, 39, 78, 47],\n",
       "       [91, 75, 78, 94]])"
      ]
     },
     "execution_count": 14,
     "metadata": {},
     "output_type": "execute_result"
    }
   ],
   "source": [
    "x = np.random.randint(0,100,(4,4))\n",
    "print('x--------------->',x)\n",
    "np.sort(x,axis=0)"
   ]
  },
  {
   "cell_type": "code",
   "execution_count": 15,
   "metadata": {},
   "outputs": [
    {
     "name": "stdout",
     "output_type": "stream",
     "text": [
      "x---------------> [48 29 38 24  9 46  6 29  3 21]\n"
     ]
    },
    {
     "data": {
      "text/plain": [
       "array([ 6,  9,  3, 21, 24, 29, 29, 46, 38, 48])"
      ]
     },
     "execution_count": 15,
     "metadata": {},
     "output_type": "execute_result"
    }
   ],
   "source": [
    "x = np.random.randint(0,50,size=10)\n",
    "print('x--------------->',x)\n",
    "np.partition(x,4)"
   ]
  },
  {
   "cell_type": "code",
   "execution_count": 16,
   "metadata": {},
   "outputs": [
    {
     "name": "stdout",
     "output_type": "stream",
     "text": [
      "team.dtype------------> [('name', '<U10'), ('number', '<i2'), ('team', '<U10')]\n",
      "team------------> [('彭政閔', 23, '兄弟象') ('林智勝', 32, '兄弟象') ('蘇偉達', 96, '兄弟象')\n",
      " ('陽耀勳', 23, 'lamigo')]\n"
     ]
    }
   ],
   "source": [
    "team =np.zeros(4, dtype={'names':('name','number','team'),'formats':('U10','i2','U10')})\n",
    "print('team.dtype------------>',team.dtype)\n",
    "team['name'] =['彭政閔','林智勝','蘇偉達','陽耀勳']\n",
    "team['number'] = [23,32,96,23]\n",
    "team['team'] = ['兄弟象','兄弟象','兄弟象','lamigo']\n",
    "print('team------------>',team)"
   ]
  },
  {
   "cell_type": "code",
   "execution_count": 16,
   "metadata": {},
   "outputs": [
    {
     "name": "stdout",
     "output_type": "stream",
     "text": [
      "[23 32 96 23]\n"
     ]
    }
   ],
   "source": [
    "print(team['number'])"
   ]
  },
  {
   "cell_type": "code",
   "execution_count": null,
   "metadata": {},
   "outputs": [],
   "source": []
  }
 ],
 "metadata": {
  "kernelspec": {
   "display_name": "Python 3",
   "language": "python",
   "name": "python3"
  },
  "language_info": {
   "codemirror_mode": {
    "name": "ipython",
    "version": 3
   },
   "file_extension": ".py",
   "mimetype": "text/x-python",
   "name": "python",
   "nbconvert_exporter": "python",
   "pygments_lexer": "ipython3",
   "version": "3.6.5"
  }
 },
 "nbformat": 4,
 "nbformat_minor": 2
}
