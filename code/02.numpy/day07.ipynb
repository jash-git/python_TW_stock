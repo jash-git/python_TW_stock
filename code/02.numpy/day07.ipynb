{
 "cells": [
  {
   "cell_type": "code",
   "execution_count": 1,
   "metadata": {
    "scrolled": true
   },
   "outputs": [
    {
     "name": "stdout",
     "output_type": "stream",
     "text": [
      "ironman_zeros----> [0 0 0 0 0 0 0 0 0 0]\n",
      "ironman_ones----> [[1. 1. 1. 1. 1.]\n",
      " [1. 1. 1. 1. 1.]\n",
      " [1. 1. 1. 1. 1.]]\n",
      "ironman_empty----> [[1.89146896e-307 1.37961302e-306]\n",
      " [1.00136557e-307 1.95821439e-306]\n",
      " [1.33511290e-306 2.22518251e-306]]\n",
      "ironman_full----> [[2.2 2.2]\n",
      " [2.2 2.2]\n",
      " [2.2 2.2]\n",
      " [2.2 2.2]]\n"
     ]
    }
   ],
   "source": [
    "import numpy as np\n",
    "ironman_zeros = np.zeros(10, dtype=int) #建立一個內容為0 長度為10的整數陣列\n",
    "ironman_ones = np.ones((3,5) ,dtype=float)  #建立一個內容為1 3x5 的浮點數陣列\n",
    "ironman_empty = np.empty((3,2) )  #建立一個內容為1 3x2 的無初始值陣列\n",
    "ironman_full = np.full((4,2), 2.2) #建立一個內容為2.2 4x2 的浮點數陣列\n",
    "\n",
    "print('ironman_zeros---->', ironman_zeros)\n",
    "print('ironman_ones---->', ironman_ones)\n",
    "print('ironman_empty---->', ironman_empty)\n",
    "print('ironman_full---->', ironman_full)"
   ]
  },
  {
   "cell_type": "code",
   "execution_count": 2,
   "metadata": {},
   "outputs": [
    {
     "name": "stdout",
     "output_type": "stream",
     "text": [
      "ironman_arange----> [ 0  2  4  6  8 10 12 14 16 18]\n",
      "ironman_linspace----> [0.   0.25 0.5  0.75 1.  ]\n"
     ]
    }
   ],
   "source": [
    "ironman_arange = np.arange(0,20,2) #建立一個依序填滿的陣列 0到20間隔為2\n",
    "ironman_linspace = np.linspace(0,1,5) #建立一個5個值的陣列，在0到1間平均分布\n",
    "\n",
    "print('ironman_arange---->', ironman_arange)\n",
    "print('ironman_linspace---->', ironman_linspace)\n"
   ]
  },
  {
   "cell_type": "code",
   "execution_count": 3,
   "metadata": {},
   "outputs": [
    {
     "name": "stdout",
     "output_type": "stream",
     "text": [
      "ironman_random----> [[0.1306738  0.81880978 0.46849706]\n",
      " [0.57292279 0.97362346 0.16369818]\n",
      " [0.64699938 0.23129952 0.10234093]]\n",
      "ironman_ranf----> [0.03304555 0.01862574 0.25015369 0.73149627 0.76281449]\n",
      "ironman_sample----> [[0.00898121 0.18074926 0.36402533]\n",
      " [0.91982908 0.18223066 0.75602241]]\n"
     ]
    }
   ],
   "source": [
    "ironman_random = np.random.random((3,3)) #建立一個3*3 陣列，在0到1間亂數值\n",
    "ironman_ranf = np.random.ranf((5)) #建立一個5 陣列，在0到1間亂數值\n",
    "ironman_sample = np.random.sample((2,3)) #建立一個323 陣列，在0到1間亂數值\n",
    "\n",
    "print('ironman_random---->', ironman_random)\n",
    "print('ironman_ranf---->', ironman_ranf)\n",
    "print('ironman_sample---->', ironman_sample)"
   ]
  },
  {
   "cell_type": "code",
   "execution_count": 4,
   "metadata": {},
   "outputs": [
    {
     "name": "stdout",
     "output_type": "stream",
     "text": [
      "ironman_normal----> [[ 0.19162232 -1.36309759 -0.00226005]\n",
      " [ 0.04943918  1.50674263  0.58402828]\n",
      " [-0.6549015  -0.96597353  1.19726421]]\n"
     ]
    }
   ],
   "source": [
    "ironman_normal = np.random.normal(0,1,(3,3)) #建立一個3*3陣列，內容為常態分佈的亂數值 平均0，標準差1\n",
    "print('ironman_normal---->', ironman_normal)"
   ]
  },
  {
   "cell_type": "code",
   "execution_count": 5,
   "metadata": {
    "scrolled": true
   },
   "outputs": [
    {
     "name": "stdout",
     "output_type": "stream",
     "text": [
      "ironman_randint----> [[3 8 9]\n",
      " [3 1 4]\n",
      " [5 3 8]]\n"
     ]
    }
   ],
   "source": [
    "ironman_randint = np.random.randint(0,10,(3,3)) #建立一個3*3陣列，內容介於0到10的整數\n",
    "print('ironman_randint---->', ironman_randint)"
   ]
  },
  {
   "cell_type": "code",
   "execution_count": 6,
   "metadata": {},
   "outputs": [
    {
     "name": "stdout",
     "output_type": "stream",
     "text": [
      "ironman_x1----> [9 6 2 7 4 4]\n",
      "ironman_x2----> [[5 2 4 3]\n",
      " [5 1 6 6]\n",
      " [1 6 6 6]]\n",
      "ironman_x3----> [[[3 4]\n",
      "  [7 1]\n",
      "  [4 9]]\n",
      "\n",
      " [[7 3]\n",
      "  [2 3]\n",
      "  [7 6]]]\n"
     ]
    }
   ],
   "source": [
    "ironman_x1 = np.random.randint(10, size=6)    #一維陣列\n",
    "ironman_x2 = np.random.randint(10, size=(3,4))     #二維陣列\n",
    "ironman_x3 = np.random.randint(10, size=(2,3,2))   #三維陣列\n",
    "\n",
    "print(\"ironman_x1---->\", ironman_x1)\n",
    "print(\"ironman_x2---->\", ironman_x2)\n",
    "print(\"ironman_x3---->\", ironman_x3)\n"
   ]
  },
  {
   "cell_type": "code",
   "execution_count": 6,
   "metadata": {
    "scrolled": true
   },
   "outputs": [
    {
     "name": "stdout",
     "output_type": "stream",
     "text": [
      "ironman_x1 ndim:      1\n",
      "ironman_x2 ndim:      2\n",
      "ironman_x3 ndim:      3\n"
     ]
    }
   ],
   "source": [
    "print(\"ironman_x1 ndim:     \", ironman_x1.ndim)\n",
    "print(\"ironman_x2 ndim:     \", ironman_x2.ndim)\n",
    "print(\"ironman_x3 ndim:     \", ironman_x3.ndim)"
   ]
  },
  {
   "cell_type": "code",
   "execution_count": 7,
   "metadata": {},
   "outputs": [
    {
     "name": "stdout",
     "output_type": "stream",
     "text": [
      "ironman_x1 shape:      (6,)\n",
      "ironman_x2 shape:      (3, 4)\n",
      "ironman_x3 shape:      (2, 3, 2)\n"
     ]
    }
   ],
   "source": [
    "print(\"ironman_x1 shape:     \", ironman_x1.shape)\n",
    "print(\"ironman_x2 shape:     \", ironman_x2.shape)\n",
    "print(\"ironman_x3 shape:     \", ironman_x3.shape)"
   ]
  },
  {
   "cell_type": "code",
   "execution_count": 8,
   "metadata": {},
   "outputs": [
    {
     "name": "stdout",
     "output_type": "stream",
     "text": [
      "ironman_x1 size:      6\n",
      "ironman_x2 size:      12\n",
      "ironman_x3 size:      12\n"
     ]
    }
   ],
   "source": [
    "print(\"ironman_x1 size:     \", ironman_x1.size)\n",
    "print(\"ironman_x2 size:     \", ironman_x2.size)\n",
    "print(\"ironman_x3 size:     \", ironman_x3.size)"
   ]
  },
  {
   "cell_type": "code",
   "execution_count": 9,
   "metadata": {},
   "outputs": [
    {
     "name": "stdout",
     "output_type": "stream",
     "text": [
      "ironman_x1 dtype:      int32\n",
      "ironman_x2 dtype:      int32\n",
      "ironman_x3 dtype:      int32\n"
     ]
    }
   ],
   "source": [
    "print(\"ironman_x1 dtype:     \", ironman_x1.dtype)\n",
    "print(\"ironman_x2 dtype:     \", ironman_x2.dtype)\n",
    "print(\"ironman_x3 dtype:     \", ironman_x3.dtype)"
   ]
  },
  {
   "cell_type": "code",
   "execution_count": 10,
   "metadata": {},
   "outputs": [
    {
     "name": "stdout",
     "output_type": "stream",
     "text": [
      "ironman_x1 itemsize:      4\n",
      "ironman_x2 itemsize:      4\n",
      "ironman_x3 itemsize:      4\n"
     ]
    }
   ],
   "source": [
    "print(\"ironman_x1 itemsize:     \", ironman_x1.itemsize)\n",
    "print(\"ironman_x2 itemsize:     \", ironman_x2.itemsize)\n",
    "print(\"ironman_x3 itemsize:     \", ironman_x3.itemsize)"
   ]
  },
  {
   "cell_type": "code",
   "execution_count": 11,
   "metadata": {},
   "outputs": [
    {
     "name": "stdout",
     "output_type": "stream",
     "text": [
      "ironman_x1 nbytes:      24\n",
      "ironman_x2 nbytes:      48\n",
      "ironman_x3 nbytes:      48\n"
     ]
    }
   ],
   "source": [
    "print(\"ironman_x1 nbytes:     \", ironman_x1.nbytes)\n",
    "print(\"ironman_x2 nbytes:     \", ironman_x2.nbytes)\n",
    "print(\"ironman_x3 nbytes:     \", ironman_x3.nbytes)"
   ]
  },
  {
   "cell_type": "code",
   "execution_count": 17,
   "metadata": {},
   "outputs": [
    {
     "name": "stdout",
     "output_type": "stream",
     "text": [
      "ironman_x1[2]-----> 9\n",
      "ironman_x2[2,2]-----> 2\n",
      "ironman_x3[1,1,1]-----> 5\n",
      "ironman_x1[2]-----> 7\n",
      "ironman_x2[2,2]-----> 4\n",
      "ironman_x3[1,1,1]-----> 3\n"
     ]
    }
   ],
   "source": [
    "# 取得陣列值\n",
    "print(\"ironman_x1[2]----->\", ironman_x1[2])\n",
    "print(\"ironman_x2[2,2]----->\", ironman_x2[2,2])\n",
    "print(\"ironman_x3[1,1,1]----->\", ironman_x3[1,1,1])\n",
    "# 修改陣列值\n",
    "ironman_x1[2] = 7\n",
    "ironman_x2[2,2] = 4\n",
    "ironman_x3[1,1,1] = 3\n",
    "print(\"ironman_x1[2]----->\", ironman_x1[2])\n",
    "print(\"ironman_x2[2,2]----->\", ironman_x2[2,2])\n",
    "print(\"ironman_x3[1,1,1]----->\", ironman_x3[1,1,1])"
   ]
  },
  {
   "cell_type": "code",
   "execution_count": 19,
   "metadata": {},
   "outputs": [
    {
     "name": "stdout",
     "output_type": "stream",
     "text": [
      "ironman_x4----> [0 1 2 3 4 5 6 7 8 9]\n",
      "ironman_x4[:5]-----> [0 1 2 3 4]\n",
      "ironman_x4[5:]-----> [5 6 7 8 9]\n",
      "ironman_x4[4:7]-----> [4 5 6]\n",
      "ironman_x4[::2]-----> [0 2 4 6 8]\n",
      "ironman_x4[1::2]-----> [1 3 5 7 9]\n",
      "ironman_x4[::-1]-----> [9 8 7 6 5 4 3 2 1 0]\n"
     ]
    }
   ],
   "source": [
    "ironman_x4 = np.arange(10)\n",
    "print('ironman_x4---->', ironman_x4)\n",
    "print('ironman_x4[:5]----->',ironman_x4[:5])         # 前面5個元素\n",
    "print('ironman_x4[5:]----->',ironman_x4[5:])         # index5 之後的元素\n",
    "print('ironman_x4[4:7]----->',ironman_x4[4:7])       # index 4~(7-1) 的元素\n",
    "print('ironman_x4[::2]----->',ironman_x4[::2])       # 間隔2的所有元素\n",
    "print('ironman_x4[1::2]----->',ironman_x4[1::2])     # index1開始 間隔2的所有元素\n",
    "print('ironman_x4[::-1]----->',ironman_x4[::-1])     # 反轉元素\n"
   ]
  },
  {
   "cell_type": "code",
   "execution_count": 7,
   "metadata": {},
   "outputs": [
    {
     "name": "stdout",
     "output_type": "stream",
     "text": [
      "ironman_x5----> [[0 5 5 2]\n",
      " [4 0 2 1]\n",
      " [5 0 9 4]]\n",
      "ironman_x5[:2, :3]-----> [[0 5 5]\n",
      " [4 0 2]]\n",
      "ironman_x5[:3, ::2]-----> [[0 5]\n",
      " [4 2]\n",
      " [5 9]]\n",
      "ironman_x5[:,0]-----> [0 4 5]\n",
      "ironman_x5[2,:]-----> [5 0 9 4]\n"
     ]
    }
   ],
   "source": [
    "ironman_x5 = np.random.randint(10, size=(3,4))     #二維陣列\n",
    "print('ironman_x5---->', ironman_x5)\n",
    "print('ironman_x5[:2, :3]----->',ironman_x5[:2, :3])         # 取得  2列        3欄\n",
    "print('ironman_x5[:3, ::2]----->',ironman_x5[:3, ::2])       # 取得  3列        偶數欄\n",
    "print('ironman_x5[:,0]----->',ironman_x5[:,0])               #取得 所有列      第(0+1)欄\n",
    "print('ironman_x5[2,:]----->',ironman_x5[2,:])               #取得 第(2+1)列   所有欄\n"
   ]
  },
  {
   "cell_type": "code",
   "execution_count": 8,
   "metadata": {},
   "outputs": [
    {
     "name": "stdout",
     "output_type": "stream",
     "text": [
      "x-----> [1 2 3]\n",
      "x_reshape-----> [[1]\n",
      " [2]\n",
      " [3]]\n",
      "x.shape-----> (3,)\n",
      "x_reshape.shape-----> (3, 1)\n"
     ]
    }
   ],
   "source": [
    "x = np.array([1,2,3])\n",
    "print('x----->', x)\n",
    "x_reshape = x.reshape((3,1))         # 透過reshape建立欄向量\n",
    "print('x_reshape----->', x_reshape)"
   ]
  },
  {
   "cell_type": "code",
   "execution_count": 9,
   "metadata": {},
   "outputs": [
    {
     "name": "stdout",
     "output_type": "stream",
     "text": [
      "concatenate-----> [1 2 3 4 5 6]\n",
      "vstack-----> [[1 2 3]\n",
      " [4 5 6]]\n",
      "hstack-----> [1 2 3 4 5 6]\n"
     ]
    }
   ],
   "source": [
    "y = np.array([4,5,6])\n",
    "print('concatenate----->',np.concatenate([x,y]))    # 串接陣列\n",
    "print('vstack----->',np.vstack([x,y]))              # 垂直串接\n",
    "print('hstack----->',np.hstack([x,y]))              # 水平串接"
   ]
  },
  {
   "cell_type": "code",
   "execution_count": 11,
   "metadata": {},
   "outputs": [
    {
     "name": "stdout",
     "output_type": "stream",
     "text": [
      "z1----> [1 2 3]\n",
      "z2----> [4 5]\n",
      "z3----> [6 7 8 9]\n",
      "vsplit-----> [array([[1, 2, 3],\n",
      "       [4, 5, 6]]), array([[7, 8, 9]])]\n",
      "hsplit-----> [array([[1, 2],\n",
      "       [4, 5],\n",
      "       [7, 8]]), array([[3],\n",
      "       [6],\n",
      "       [9]])]\n"
     ]
    }
   ],
   "source": [
    "z = np.array([1,2,3,4,5,6,7,8,9])\n",
    "z1,z2,z3 = np.split(z,[3,5])              # 分割3個陣列 [index 0~(3-1) ] [ index 3~(5-1)] [index (5~end)]\n",
    "print(\"z1---->\", z1)\n",
    "print(\"z2---->\", z2)\n",
    "print(\"z3---->\", z3)\n",
    "z = np.array([[1,2,3],[4,5,6],[7,8,9]])\n",
    "print('vsplit----->',np.vsplit(z,[2]))    # 垂直分割\n",
    "print('hsplit----->',np.hsplit(z,[2]))    # 水平分割"
   ]
  },
  {
   "cell_type": "code",
   "execution_count": 12,
   "metadata": {},
   "outputs": [
    {
     "data": {
      "text/plain": [
       "array([2, 1, 0, 1, 3])"
      ]
     },
     "execution_count": 12,
     "metadata": {},
     "output_type": "execute_result"
    }
   ],
   "source": [
    "x = np.array([-2,-1,0,1,-3])\n",
    "abs(x)"
   ]
  },
  {
   "cell_type": "code",
   "execution_count": 13,
   "metadata": {},
   "outputs": [
    {
     "name": "stdout",
     "output_type": "stream",
     "text": [
      "sin()----> [0.0000000e+00 1.0000000e+00 1.2246468e-16]\n",
      "cos()----> [ 1.000000e+00  6.123234e-17 -1.000000e+00]\n",
      "tan()----> [ 0.00000000e+00  1.63312394e+16 -1.22464680e-16]\n"
     ]
    }
   ],
   "source": [
    "theta = np.linspace(0, np.pi, 3)  #建立一個角度的陣列\n",
    "print(\"sin()---->\", np.sin(theta))\n",
    "print(\"cos()---->\", np.cos(theta))\n",
    "print(\"tan()---->\", np.tan(theta))"
   ]
  },
  {
   "cell_type": "code",
   "execution_count": 14,
   "metadata": {},
   "outputs": [
    {
     "name": "stdout",
     "output_type": "stream",
     "text": [
      "exp()----> [2.71828183e+00 7.38905610e+00 8.10308393e+03 2.20264658e+04\n",
      " 8.88611052e+06]\n",
      "exp2()----> [2.0000e+00 4.0000e+00 5.1200e+02 1.0240e+03 6.5536e+04]\n",
      "power()----> [       3        9    19683    59049 43046721]\n",
      "log()----> [0.         0.69314718 2.19722458 2.30258509 2.77258872]\n",
      "log2()----> [0.         1.         3.169925   3.32192809 4.        ]\n",
      "log10()----> [0.         0.30103    0.95424251 1.         1.20411998]\n"
     ]
    }
   ],
   "source": [
    "x = [1,2,9,10, 16]\n",
    "print(\"exp()---->\", np.exp(x))          # e^x\n",
    "print(\"exp2()---->\", np.exp2(x))        # 2^x\n",
    "print(\"power()---->\", np.power(3, x))   # 3^x\n",
    "print(\"log()---->\", np.log(x))          # log自然對數\n",
    "print(\"log2()---->\", np.log2(x))        # 以2為基底的對數\n",
    "print(\"log10()---->\", np.log10(x))      # 以10為基底的對數\n"
   ]
  },
  {
   "cell_type": "code",
   "execution_count": 15,
   "metadata": {},
   "outputs": [
    {
     "data": {
      "text/plain": [
       "array([[ 1,  2,  3,  4,  5],\n",
       "       [ 2,  4,  6,  8, 10],\n",
       "       [ 3,  6,  9, 12, 15],\n",
       "       [ 4,  8, 12, 16, 20],\n",
       "       [ 5, 10, 15, 20, 25]])"
      ]
     },
     "execution_count": 15,
     "metadata": {},
     "output_type": "execute_result"
    }
   ],
   "source": [
    "y = np.arange(1,6)\n",
    "np.multiply.outer(y, y)"
   ]
  },
  {
   "cell_type": "code",
   "execution_count": null,
   "metadata": {},
   "outputs": [],
   "source": []
  }
 ],
 "metadata": {
  "kernelspec": {
   "display_name": "Python 3",
   "language": "python",
   "name": "python3"
  },
  "language_info": {
   "codemirror_mode": {
    "name": "ipython",
    "version": 3
   },
   "file_extension": ".py",
   "mimetype": "text/x-python",
   "name": "python",
   "nbconvert_exporter": "python",
   "pygments_lexer": "ipython3",
   "version": "3.6.5"
  }
 },
 "nbformat": 4,
 "nbformat_minor": 2
}
