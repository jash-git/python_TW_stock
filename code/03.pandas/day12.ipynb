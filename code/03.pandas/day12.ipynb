{
 "cells": [
  {
   "cell_type": "code",
   "execution_count": 2,
   "metadata": {},
   "outputs": [],
   "source": [
    "import numpy as np\n",
    "import pandas as pd"
   ]
  },
  {
   "cell_type": "code",
   "execution_count": 17,
   "metadata": {},
   "outputs": [
    {
     "name": "stdout",
     "output_type": "stream",
     "text": [
      "{'A': ['A0', 'A1', 'A2'], 'B': ['B0', 'B1', 'B2'], 'C': ['C0', 'C1', 'C2']}\n"
     ]
    },
    {
     "data": {
      "text/html": [
       "<div>\n",
       "<style scoped>\n",
       "    .dataframe tbody tr th:only-of-type {\n",
       "        vertical-align: middle;\n",
       "    }\n",
       "\n",
       "    .dataframe tbody tr th {\n",
       "        vertical-align: top;\n",
       "    }\n",
       "\n",
       "    .dataframe thead th {\n",
       "        text-align: right;\n",
       "    }\n",
       "</style>\n",
       "<table border=\"1\" class=\"dataframe\">\n",
       "  <thead>\n",
       "    <tr style=\"text-align: right;\">\n",
       "      <th></th>\n",
       "      <th>A</th>\n",
       "      <th>B</th>\n",
       "      <th>C</th>\n",
       "    </tr>\n",
       "  </thead>\n",
       "  <tbody>\n",
       "    <tr>\n",
       "      <th>0</th>\n",
       "      <td>A0</td>\n",
       "      <td>B0</td>\n",
       "      <td>C0</td>\n",
       "    </tr>\n",
       "    <tr>\n",
       "      <th>1</th>\n",
       "      <td>A1</td>\n",
       "      <td>B1</td>\n",
       "      <td>C1</td>\n",
       "    </tr>\n",
       "    <tr>\n",
       "      <th>2</th>\n",
       "      <td>A2</td>\n",
       "      <td>B2</td>\n",
       "      <td>C2</td>\n",
       "    </tr>\n",
       "  </tbody>\n",
       "</table>\n",
       "</div>"
      ],
      "text/plain": [
       "    A   B   C\n",
       "0  A0  B0  C0\n",
       "1  A1  B1  C1\n",
       "2  A2  B2  C2"
      ]
     },
     "execution_count": 17,
     "metadata": {},
     "output_type": "execute_result"
    }
   ],
   "source": [
    "def make_dataFrame(cols, ind):\n",
    "    data = {c:[str(c) + str(i) for i in ind]\n",
    "                               for c in cols}\n",
    "    return pd.DataFrame(data, ind)\n",
    "make_df('ABC', range(3))"
   ]
  },
  {
   "cell_type": "code",
   "execution_count": 5,
   "metadata": {},
   "outputs": [
    {
     "data": {
      "text/plain": [
       "0    A\n",
       "1    B\n",
       "2    C\n",
       "2    D\n",
       "3    E\n",
       "4    F\n",
       "dtype: object"
      ]
     },
     "execution_count": 5,
     "metadata": {},
     "output_type": "execute_result"
    }
   ],
   "source": [
    "ironman1 = pd.Series(['A','B','C'], index=[0,1,2])\n",
    "ironman2 = pd.Series(['D','E','F'], index=[2,3,4])\n",
    "pd.concat([ironman1,ironman2])"
   ]
  },
  {
   "cell_type": "code",
   "execution_count": 9,
   "metadata": {},
   "outputs": [
    {
     "data": {
      "text/html": [
       "<div>\n",
       "<style scoped>\n",
       "    .dataframe tbody tr th:only-of-type {\n",
       "        vertical-align: middle;\n",
       "    }\n",
       "\n",
       "    .dataframe tbody tr th {\n",
       "        vertical-align: top;\n",
       "    }\n",
       "\n",
       "    .dataframe thead th {\n",
       "        text-align: right;\n",
       "    }\n",
       "</style>\n",
       "<table border=\"1\" class=\"dataframe\">\n",
       "  <thead>\n",
       "    <tr style=\"text-align: right;\">\n",
       "      <th></th>\n",
       "      <th>A</th>\n",
       "      <th>B</th>\n",
       "    </tr>\n",
       "  </thead>\n",
       "  <tbody>\n",
       "    <tr>\n",
       "      <th>1</th>\n",
       "      <td>A1</td>\n",
       "      <td>B1</td>\n",
       "    </tr>\n",
       "    <tr>\n",
       "      <th>2</th>\n",
       "      <td>A2</td>\n",
       "      <td>B2</td>\n",
       "    </tr>\n",
       "    <tr>\n",
       "      <th>3</th>\n",
       "      <td>A3</td>\n",
       "      <td>B3</td>\n",
       "    </tr>\n",
       "    <tr>\n",
       "      <th>4</th>\n",
       "      <td>A4</td>\n",
       "      <td>B4</td>\n",
       "    </tr>\n",
       "  </tbody>\n",
       "</table>\n",
       "</div>"
      ],
      "text/plain": [
       "    A   B\n",
       "1  A1  B1\n",
       "2  A2  B2\n",
       "3  A3  B3\n",
       "4  A4  B4"
      ]
     },
     "execution_count": 9,
     "metadata": {},
     "output_type": "execute_result"
    }
   ],
   "source": [
    "ironman3 = make_dataFrame('AB',[1,2])\n",
    "ironman4 = make_dataFrame('AB',[3,4])\n",
    "pd.concat([ironman3,ironman4])"
   ]
  },
  {
   "cell_type": "code",
   "execution_count": 14,
   "metadata": {},
   "outputs": [
    {
     "name": "stdout",
     "output_type": "stream",
     "text": [
      "    A   B\n",
      "1  A1  B1\n",
      "2  A2  B2\n",
      "    B   C\n",
      "3  B3  C3\n",
      "4  B4  C4\n",
      "    B\n",
      "1  B1\n",
      "2  B2\n",
      "3  B3\n",
      "4  B4\n"
     ]
    }
   ],
   "source": [
    "ironman5 = make_dataFrame('BC',[3,4])\n",
    "print(ironman3)\n",
    "print(ironman5)\n",
    "print(pd.concat([ironman3,ironman5], join='inner'))"
   ]
  },
  {
   "cell_type": "code",
   "execution_count": 15,
   "metadata": {},
   "outputs": [
    {
     "data": {
      "text/plain": [
       "0    A\n",
       "1    B\n",
       "2    C\n",
       "2    D\n",
       "3    E\n",
       "4    F\n",
       "dtype: object"
      ]
     },
     "execution_count": 15,
     "metadata": {},
     "output_type": "execute_result"
    }
   ],
   "source": [
    "ironman1.append(ironman2)"
   ]
  },
  {
   "cell_type": "code",
   "execution_count": 22,
   "metadata": {},
   "outputs": [
    {
     "data": {
      "text/html": [
       "<div>\n",
       "<style scoped>\n",
       "    .dataframe tbody tr th:only-of-type {\n",
       "        vertical-align: middle;\n",
       "    }\n",
       "\n",
       "    .dataframe tbody tr th {\n",
       "        vertical-align: top;\n",
       "    }\n",
       "\n",
       "    .dataframe thead th {\n",
       "        text-align: right;\n",
       "    }\n",
       "</style>\n",
       "<table border=\"1\" class=\"dataframe\">\n",
       "  <thead>\n",
       "    <tr style=\"text-align: right;\">\n",
       "      <th></th>\n",
       "      <th>player</th>\n",
       "      <th>number</th>\n",
       "      <th>team</th>\n",
       "    </tr>\n",
       "  </thead>\n",
       "  <tbody>\n",
       "    <tr>\n",
       "      <th>0</th>\n",
       "      <td>彭政閔</td>\n",
       "      <td>23</td>\n",
       "      <td>兄弟象</td>\n",
       "    </tr>\n",
       "    <tr>\n",
       "      <th>1</th>\n",
       "      <td>林智勝</td>\n",
       "      <td>32</td>\n",
       "      <td>兄弟象</td>\n",
       "    </tr>\n",
       "    <tr>\n",
       "      <th>2</th>\n",
       "      <td>郭阜林</td>\n",
       "      <td>5</td>\n",
       "      <td>統一獅</td>\n",
       "    </tr>\n",
       "    <tr>\n",
       "      <th>3</th>\n",
       "      <td>詹子賢</td>\n",
       "      <td>39</td>\n",
       "      <td>兄弟象</td>\n",
       "    </tr>\n",
       "  </tbody>\n",
       "</table>\n",
       "</div>"
      ],
      "text/plain": [
       "  player  number team\n",
       "0    彭政閔      23  兄弟象\n",
       "1    林智勝      32  兄弟象\n",
       "2    郭阜林       5  統一獅\n",
       "3    詹子賢      39  兄弟象"
      ]
     },
     "execution_count": 22,
     "metadata": {},
     "output_type": "execute_result"
    }
   ],
   "source": [
    "ironman6 = pd.DataFrame({'player':['彭政閔','林智勝','郭阜林','詹子賢'],\n",
    "                        'number':[23,32,5,39]})\n",
    "ironman7 = pd.DataFrame({'player':['彭政閔','郭阜林','林智勝','詹子賢'],\n",
    "                        'team':['兄弟象','統一獅','兄弟象','兄弟象']})\n",
    "ironman8 = pd.merge(ironman6, ironman7)\n",
    "ironman8"
   ]
  },
  {
   "cell_type": "code",
   "execution_count": 24,
   "metadata": {},
   "outputs": [
    {
     "data": {
      "text/html": [
       "<div>\n",
       "<style scoped>\n",
       "    .dataframe tbody tr th:only-of-type {\n",
       "        vertical-align: middle;\n",
       "    }\n",
       "\n",
       "    .dataframe tbody tr th {\n",
       "        vertical-align: top;\n",
       "    }\n",
       "\n",
       "    .dataframe thead th {\n",
       "        text-align: right;\n",
       "    }\n",
       "</style>\n",
       "<table border=\"1\" class=\"dataframe\">\n",
       "  <thead>\n",
       "    <tr style=\"text-align: right;\">\n",
       "      <th></th>\n",
       "      <th>player</th>\n",
       "      <th>number</th>\n",
       "      <th>team</th>\n",
       "      <th>manager</th>\n",
       "    </tr>\n",
       "  </thead>\n",
       "  <tbody>\n",
       "    <tr>\n",
       "      <th>0</th>\n",
       "      <td>彭政閔</td>\n",
       "      <td>23</td>\n",
       "      <td>兄弟象</td>\n",
       "      <td>Snyder</td>\n",
       "    </tr>\n",
       "    <tr>\n",
       "      <th>1</th>\n",
       "      <td>林智勝</td>\n",
       "      <td>32</td>\n",
       "      <td>兄弟象</td>\n",
       "      <td>Snyder</td>\n",
       "    </tr>\n",
       "    <tr>\n",
       "      <th>2</th>\n",
       "      <td>詹子賢</td>\n",
       "      <td>39</td>\n",
       "      <td>兄弟象</td>\n",
       "      <td>Snyder</td>\n",
       "    </tr>\n",
       "    <tr>\n",
       "      <th>3</th>\n",
       "      <td>郭阜林</td>\n",
       "      <td>5</td>\n",
       "      <td>統一獅</td>\n",
       "      <td>黃甘霖</td>\n",
       "    </tr>\n",
       "  </tbody>\n",
       "</table>\n",
       "</div>"
      ],
      "text/plain": [
       "  player  number team manager\n",
       "0    彭政閔      23  兄弟象  Snyder\n",
       "1    林智勝      32  兄弟象  Snyder\n",
       "2    詹子賢      39  兄弟象  Snyder\n",
       "3    郭阜林       5  統一獅     黃甘霖"
      ]
     },
     "execution_count": 24,
     "metadata": {},
     "output_type": "execute_result"
    }
   ],
   "source": [
    "ironman9 = pd.DataFrame({'team':['兄弟象','統一獅','lamigo','富邦悍將'],\n",
    "                        'manager':['Snyder','黃甘霖','洪一中','陳連宏']})\n",
    "ironman10 = pd.merge(ironman8, ironman9)\n",
    "ironman10"
   ]
  },
  {
   "cell_type": "code",
   "execution_count": 25,
   "metadata": {},
   "outputs": [
    {
     "data": {
      "text/html": [
       "<div>\n",
       "<style scoped>\n",
       "    .dataframe tbody tr th:only-of-type {\n",
       "        vertical-align: middle;\n",
       "    }\n",
       "\n",
       "    .dataframe tbody tr th {\n",
       "        vertical-align: top;\n",
       "    }\n",
       "\n",
       "    .dataframe thead th {\n",
       "        text-align: right;\n",
       "    }\n",
       "</style>\n",
       "<table border=\"1\" class=\"dataframe\">\n",
       "  <thead>\n",
       "    <tr style=\"text-align: right;\">\n",
       "      <th></th>\n",
       "      <th>player</th>\n",
       "      <th>number</th>\n",
       "      <th>team</th>\n",
       "      <th>coach</th>\n",
       "    </tr>\n",
       "  </thead>\n",
       "  <tbody>\n",
       "    <tr>\n",
       "      <th>0</th>\n",
       "      <td>彭政閔</td>\n",
       "      <td>23</td>\n",
       "      <td>兄弟象</td>\n",
       "      <td>伯　納</td>\n",
       "    </tr>\n",
       "    <tr>\n",
       "      <th>1</th>\n",
       "      <td>彭政閔</td>\n",
       "      <td>23</td>\n",
       "      <td>兄弟象</td>\n",
       "      <td>丘昌榮</td>\n",
       "    </tr>\n",
       "    <tr>\n",
       "      <th>2</th>\n",
       "      <td>林智勝</td>\n",
       "      <td>32</td>\n",
       "      <td>兄弟象</td>\n",
       "      <td>伯　納</td>\n",
       "    </tr>\n",
       "    <tr>\n",
       "      <th>3</th>\n",
       "      <td>林智勝</td>\n",
       "      <td>32</td>\n",
       "      <td>兄弟象</td>\n",
       "      <td>丘昌榮</td>\n",
       "    </tr>\n",
       "    <tr>\n",
       "      <th>4</th>\n",
       "      <td>詹子賢</td>\n",
       "      <td>39</td>\n",
       "      <td>兄弟象</td>\n",
       "      <td>伯　納</td>\n",
       "    </tr>\n",
       "    <tr>\n",
       "      <th>5</th>\n",
       "      <td>詹子賢</td>\n",
       "      <td>39</td>\n",
       "      <td>兄弟象</td>\n",
       "      <td>丘昌榮</td>\n",
       "    </tr>\n",
       "    <tr>\n",
       "      <th>6</th>\n",
       "      <td>郭阜林</td>\n",
       "      <td>5</td>\n",
       "      <td>統一獅</td>\n",
       "      <td>高政華</td>\n",
       "    </tr>\n",
       "  </tbody>\n",
       "</table>\n",
       "</div>"
      ],
      "text/plain": [
       "  player  number team coach\n",
       "0    彭政閔      23  兄弟象   伯　納\n",
       "1    彭政閔      23  兄弟象   丘昌榮\n",
       "2    林智勝      32  兄弟象   伯　納\n",
       "3    林智勝      32  兄弟象   丘昌榮\n",
       "4    詹子賢      39  兄弟象   伯　納\n",
       "5    詹子賢      39  兄弟象   丘昌榮\n",
       "6    郭阜林       5  統一獅   高政華"
      ]
     },
     "execution_count": 25,
     "metadata": {},
     "output_type": "execute_result"
    }
   ],
   "source": [
    "ironman11 = pd.DataFrame({'team':['兄弟象','兄弟象','統一獅','lamigo','富邦悍將'],\n",
    "                        'coach':['伯　納','丘昌榮','高政華','吳俊良','林宗男']})\n",
    "ironman12 = pd.merge(ironman8, ironman11)\n",
    "ironman12"
   ]
  },
  {
   "cell_type": "code",
   "execution_count": 33,
   "metadata": {},
   "outputs": [
    {
     "data": {
      "text/html": [
       "<div>\n",
       "<style scoped>\n",
       "    .dataframe tbody tr th:only-of-type {\n",
       "        vertical-align: middle;\n",
       "    }\n",
       "\n",
       "    .dataframe tbody tr th {\n",
       "        vertical-align: top;\n",
       "    }\n",
       "\n",
       "    .dataframe thead th {\n",
       "        text-align: right;\n",
       "    }\n",
       "</style>\n",
       "<table border=\"1\" class=\"dataframe\">\n",
       "  <thead>\n",
       "    <tr style=\"text-align: right;\">\n",
       "      <th></th>\n",
       "      <th>player</th>\n",
       "      <th>number</th>\n",
       "      <th>team</th>\n",
       "    </tr>\n",
       "  </thead>\n",
       "  <tbody>\n",
       "    <tr>\n",
       "      <th>0</th>\n",
       "      <td>彭政閔</td>\n",
       "      <td>23</td>\n",
       "      <td>兄弟象</td>\n",
       "    </tr>\n",
       "    <tr>\n",
       "      <th>1</th>\n",
       "      <td>林智勝</td>\n",
       "      <td>32</td>\n",
       "      <td>兄弟象</td>\n",
       "    </tr>\n",
       "    <tr>\n",
       "      <th>2</th>\n",
       "      <td>郭阜林</td>\n",
       "      <td>5</td>\n",
       "      <td>統一獅</td>\n",
       "    </tr>\n",
       "    <tr>\n",
       "      <th>3</th>\n",
       "      <td>詹子賢</td>\n",
       "      <td>39</td>\n",
       "      <td>兄弟象</td>\n",
       "    </tr>\n",
       "  </tbody>\n",
       "</table>\n",
       "</div>"
      ],
      "text/plain": [
       "  player  number team\n",
       "0    彭政閔      23  兄弟象\n",
       "1    林智勝      32  兄弟象\n",
       "2    郭阜林       5  統一獅\n",
       "3    詹子賢      39  兄弟象"
      ]
     },
     "execution_count": 33,
     "metadata": {},
     "output_type": "execute_result"
    }
   ],
   "source": [
    "ironman6 = pd.DataFrame({'player':['彭政閔','林智勝','郭阜林','詹子賢'],\n",
    "                        'number':[23,32,5,39]})\n",
    "ironman13 = pd.DataFrame({'name':['彭政閔','郭阜林','林智勝','詹子賢'],\n",
    "                        'team':['兄弟象','統一獅','兄弟象','兄弟象']})\n",
    "pd.merge(ironman6, ironman13, left_on=\"player\", right_on=\"name\").drop('name',axis=1)"
   ]
  },
  {
   "cell_type": "code",
   "execution_count": 7,
   "metadata": {},
   "outputs": [
    {
     "data": {
      "text/html": [
       "<div>\n",
       "<style scoped>\n",
       "    .dataframe tbody tr th:only-of-type {\n",
       "        vertical-align: middle;\n",
       "    }\n",
       "\n",
       "    .dataframe tbody tr th {\n",
       "        vertical-align: top;\n",
       "    }\n",
       "\n",
       "    .dataframe thead th {\n",
       "        text-align: right;\n",
       "    }\n",
       "</style>\n",
       "<table border=\"1\" class=\"dataframe\">\n",
       "  <thead>\n",
       "    <tr style=\"text-align: right;\">\n",
       "      <th></th>\n",
       "      <th>player</th>\n",
       "      <th>number</th>\n",
       "      <th>team</th>\n",
       "    </tr>\n",
       "  </thead>\n",
       "  <tbody>\n",
       "    <tr>\n",
       "      <th>0</th>\n",
       "      <td>彭政閔</td>\n",
       "      <td>23.0</td>\n",
       "      <td>兄弟象</td>\n",
       "    </tr>\n",
       "    <tr>\n",
       "      <th>1</th>\n",
       "      <td>林智勝</td>\n",
       "      <td>32.0</td>\n",
       "      <td>兄弟象</td>\n",
       "    </tr>\n",
       "    <tr>\n",
       "      <th>2</th>\n",
       "      <td>張志豪</td>\n",
       "      <td>NaN</td>\n",
       "      <td>兄弟象</td>\n",
       "    </tr>\n",
       "    <tr>\n",
       "      <th>3</th>\n",
       "      <td>藍寅倫</td>\n",
       "      <td>NaN</td>\n",
       "      <td>lamigo</td>\n",
       "    </tr>\n",
       "  </tbody>\n",
       "</table>\n",
       "</div>"
      ],
      "text/plain": [
       "  player  number    team\n",
       "0    彭政閔    23.0     兄弟象\n",
       "1    林智勝    32.0     兄弟象\n",
       "2    張志豪     NaN     兄弟象\n",
       "3    藍寅倫     NaN  lamigo"
      ]
     },
     "execution_count": 7,
     "metadata": {},
     "output_type": "execute_result"
    }
   ],
   "source": [
    "ironman6 = pd.DataFrame({'player':['彭政閔','林智勝','郭阜林','詹子賢'],\n",
    "                        'number':[23,32,5,39]})\n",
    "ironman14 = pd.DataFrame({'player':['彭政閔','林智勝','張志豪',\"藍寅倫\"],\n",
    "                        'team':['兄弟象','兄弟象','兄弟象','lamigo']})\n",
    "pd.merge(ironman6, ironman14, how=\"right\")"
   ]
  },
  {
   "cell_type": "code",
   "execution_count": 10,
   "metadata": {},
   "outputs": [
    {
     "data": {
      "text/html": [
       "<div>\n",
       "<style scoped>\n",
       "    .dataframe tbody tr th:only-of-type {\n",
       "        vertical-align: middle;\n",
       "    }\n",
       "\n",
       "    .dataframe tbody tr th {\n",
       "        vertical-align: top;\n",
       "    }\n",
       "\n",
       "    .dataframe thead th {\n",
       "        text-align: right;\n",
       "    }\n",
       "</style>\n",
       "<table border=\"1\" class=\"dataframe\">\n",
       "  <thead>\n",
       "    <tr style=\"text-align: right;\">\n",
       "      <th></th>\n",
       "      <th>player</th>\n",
       "      <th>number_職棒</th>\n",
       "      <th>number_國家隊</th>\n",
       "    </tr>\n",
       "  </thead>\n",
       "  <tbody>\n",
       "    <tr>\n",
       "      <th>0</th>\n",
       "      <td>彭政閔</td>\n",
       "      <td>23</td>\n",
       "      <td>23</td>\n",
       "    </tr>\n",
       "    <tr>\n",
       "      <th>1</th>\n",
       "      <td>林智勝</td>\n",
       "      <td>32</td>\n",
       "      <td>31</td>\n",
       "    </tr>\n",
       "    <tr>\n",
       "      <th>2</th>\n",
       "      <td>陳江和</td>\n",
       "      <td>31</td>\n",
       "      <td>8</td>\n",
       "    </tr>\n",
       "    <tr>\n",
       "      <th>3</th>\n",
       "      <td>張正偉</td>\n",
       "      <td>8</td>\n",
       "      <td>59</td>\n",
       "    </tr>\n",
       "  </tbody>\n",
       "</table>\n",
       "</div>"
      ],
      "text/plain": [
       "  player  number_職棒  number_國家隊\n",
       "0    彭政閔         23          23\n",
       "1    林智勝         32          31\n",
       "2    陳江和         31           8\n",
       "3    張正偉          8          59"
      ]
     },
     "execution_count": 10,
     "metadata": {},
     "output_type": "execute_result"
    }
   ],
   "source": [
    "ironman6 = pd.DataFrame({'player':['彭政閔','林智勝','陳江和','張正偉'],\n",
    "                        'number':[23,32,31,8]})\n",
    "ironman15 = pd.DataFrame({'player':['彭政閔','林智勝','陳江和','張正偉'],\n",
    "                        'number':[23,31,8,59]})\n",
    "pd.merge(ironman6,ironman15, on=\"player\", suffixes=[\"_職棒\",\"_國家隊\"])"
   ]
  },
  {
   "cell_type": "code",
   "execution_count": null,
   "metadata": {},
   "outputs": [],
   "source": []
  }
 ],
 "metadata": {
  "kernelspec": {
   "display_name": "Python 3",
   "language": "python",
   "name": "python3"
  },
  "language_info": {
   "codemirror_mode": {
    "name": "ipython",
    "version": 3
   },
   "file_extension": ".py",
   "mimetype": "text/x-python",
   "name": "python",
   "nbconvert_exporter": "python",
   "pygments_lexer": "ipython3",
   "version": "3.6.5"
  }
 },
 "nbformat": 4,
 "nbformat_minor": 2
}
